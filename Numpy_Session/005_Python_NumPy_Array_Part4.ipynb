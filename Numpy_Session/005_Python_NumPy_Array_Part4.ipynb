{
  "cells": [
    {
      "cell_type": "markdown",
      "metadata": {
        "id": "7tRcrTMXjqO3"
      },
      "source": [
        "## Arrays reorganizing"
      ]
    },
    {
      "cell_type": "markdown",
      "metadata": {
        "id": "sGAfKgLAjqO7"
      },
      "source": [
        "### `arange()`\n",
        "\n",
        "The **`arange()`** is an inbuilt numpy function that returns an ndarray object containing evenly spaced values within a defined interval. For instance, you want to create values from 1 to 10; you can use **`arange()`** function.\n",
        "\n",
        "**Syntax:**\n",
        "```python\n",
        "numpy.arange(start, stop,step) \n",
        "```\n",
        "* **`start`**: Start of interval\n",
        "* **`stop`**: End of interval\n",
        "* **`step`**: Spacing between values. Default step is 1"
      ]
    },
    {
      "cell_type": "code",
      "execution_count": 1,
      "metadata": {
        "ExecuteTime": {
          "end_time": "2021-07-06T15:01:01.958575Z",
          "start_time": "2021-07-06T15:01:01.772054Z"
        },
        "scrolled": true,
        "colab": {
          "base_uri": "https://localhost:8080/"
        },
        "id": "QUcDUJoKjqO8",
        "outputId": "fd586978-42fc-4ef5-c4ca-3b471d096ed9"
      },
      "outputs": [
        {
          "output_type": "execute_result",
          "data": {
            "text/plain": [
              "array([ 1,  2,  3,  4,  5,  6,  7,  8,  9, 10])"
            ]
          },
          "metadata": {},
          "execution_count": 1
        }
      ],
      "source": [
        "# Example 1:\n",
        "\n",
        "import numpy as np\n",
        "np.arange(1, 11)"
      ]
    },
    {
      "cell_type": "markdown",
      "metadata": {
        "id": "7KMtQrQZjqO9"
      },
      "source": [
        "If you want to change the step, you can add a third number in the parenthesis. It will change the step."
      ]
    },
    {
      "cell_type": "code",
      "execution_count": 2,
      "metadata": {
        "ExecuteTime": {
          "end_time": "2021-07-06T15:01:02.126052Z",
          "start_time": "2021-07-06T15:01:01.965409Z"
        },
        "colab": {
          "base_uri": "https://localhost:8080/"
        },
        "id": "1EwkKi_KjqO9",
        "outputId": "c26edf0d-ea58-41c7-e665-e6ca78116c78"
      },
      "outputs": [
        {
          "output_type": "execute_result",
          "data": {
            "text/plain": [
              "array([ 1,  5,  9, 13])"
            ]
          },
          "metadata": {},
          "execution_count": 2
        }
      ],
      "source": [
        "# Example 2:\n",
        "\n",
        "import numpy as np\n",
        "np.arange(1, 14, 4)"
      ]
    },
    {
      "cell_type": "code",
      "execution_count": 3,
      "metadata": {
        "ExecuteTime": {
          "end_time": "2021-07-06T15:01:02.211013Z",
          "start_time": "2021-07-06T15:01:02.130937Z"
        },
        "scrolled": false,
        "colab": {
          "base_uri": "https://localhost:8080/"
        },
        "id": "O_vp86aCjqO-",
        "outputId": "67ef4f4a-6a9f-4bd3-d44c-8adf53e8b872"
      },
      "outputs": [
        {
          "output_type": "execute_result",
          "data": {
            "text/plain": [
              "array([ 0,  2,  4,  6,  8, 10])"
            ]
          },
          "metadata": {},
          "execution_count": 3
        }
      ],
      "source": [
        "np.arange(0,11,2)   # even no by adding a step size"
      ]
    },
    {
      "cell_type": "code",
      "execution_count": 4,
      "metadata": {
        "ExecuteTime": {
          "end_time": "2021-07-06T15:01:02.304274Z",
          "start_time": "2021-07-06T15:01:02.214922Z"
        },
        "colab": {
          "base_uri": "https://localhost:8080/"
        },
        "id": "dverU78zjqO_",
        "outputId": "158468a9-4e48-44a8-87d2-83327a15b79c"
      },
      "outputs": [
        {
          "output_type": "execute_result",
          "data": {
            "text/plain": [
              "array([1, 3, 5, 7, 9])"
            ]
          },
          "metadata": {},
          "execution_count": 4
        }
      ],
      "source": [
        "np.arange(1,11,2)   # odd no"
      ]
    },
    {
      "cell_type": "markdown",
      "metadata": {
        "id": "zgZE61FyjqPA"
      },
      "source": [
        "### Reshape Data\n",
        "\n",
        "In some occasions, you need to reshape the data from wide to long. You can use the reshape function for this. \n",
        "\n",
        "**Syntax:** \n",
        "```python\n",
        "numpy.reshape(a, newShape, order='C')\n",
        "```\n",
        "* **`a: Array`** that you want to reshape\n",
        "* **`newShape`**: The new desires shape\n",
        "* **`order`**: Default is **`C`** which is an essential row style."
      ]
    },
    {
      "cell_type": "code",
      "execution_count": 6,
      "metadata": {
        "ExecuteTime": {
          "end_time": "2021-07-06T15:01:02.411696Z",
          "start_time": "2021-07-06T15:01:02.315015Z"
        },
        "scrolled": true,
        "colab": {
          "base_uri": "https://localhost:8080/"
        },
        "id": "rLTMYbybjqPA",
        "outputId": "65df8ac0-a919-4102-a371-4cf407576480"
      },
      "outputs": [
        {
          "output_type": "stream",
          "name": "stdout",
          "text": [
            "[[1 2 3]\n",
            " [4 5 6]]\n",
            "(2, 3)\n"
          ]
        }
      ],
      "source": [
        "import numpy as np\n",
        "\n",
        "e  = np.array([(1,2,3), (4,5,6)])\n",
        "print(e)\n",
        "print(e.shape)"
      ]
    },
    {
      "cell_type": "code",
      "source": [
        "new_e = e.reshape(3,2)\n",
        "new_e"
      ],
      "metadata": {
        "colab": {
          "base_uri": "https://localhost:8080/"
        },
        "id": "BzaYzAZJ3XQ_",
        "outputId": "534f8886-eaa8-41b7-be2c-b6e30e187e15"
      },
      "execution_count": 7,
      "outputs": [
        {
          "output_type": "execute_result",
          "data": {
            "text/plain": [
              "array([[1, 2],\n",
              "       [3, 4],\n",
              "       [5, 6]])"
            ]
          },
          "metadata": {},
          "execution_count": 7
        }
      ]
    },
    {
      "cell_type": "markdown",
      "metadata": {
        "id": "vQEuvRNrjqPF"
      },
      "source": [
        "### Flatten Data\n",
        "\n",
        "When you deal with some neural network like convnet, you need to flatten the array. You can use **`flatten()`**.\n",
        "\n",
        "**Syntax:** \n",
        "```python\n",
        "numpy.flatten(order='C')\n",
        "```\n",
        "* **`a: Array`** that you want to reshape\n",
        "* **`newShape`**: The new desires shape\n",
        "* **`order`**: Default is **`C`** which is an essential row style."
      ]
    },
    {
      "cell_type": "code",
      "source": [
        "e"
      ],
      "metadata": {
        "colab": {
          "base_uri": "https://localhost:8080/"
        },
        "id": "UrUpL_Lb33kE",
        "outputId": "4815fb02-cf38-4d8e-84ab-43dc1f22ee91"
      },
      "execution_count": 10,
      "outputs": [
        {
          "output_type": "execute_result",
          "data": {
            "text/plain": [
              "array([[1, 2, 3],\n",
              "       [4, 5, 6]])"
            ]
          },
          "metadata": {},
          "execution_count": 10
        }
      ]
    },
    {
      "cell_type": "code",
      "execution_count": 12,
      "metadata": {
        "ExecuteTime": {
          "end_time": "2021-07-06T15:01:02.955151Z",
          "start_time": "2021-07-06T15:01:02.867751Z"
        },
        "colab": {
          "base_uri": "https://localhost:8080/"
        },
        "id": "6jC_sm0FjqPF",
        "outputId": "59736ef3-d904-4352-ada1-00fd3c5f3365"
      },
      "outputs": [
        {
          "output_type": "execute_result",
          "data": {
            "text/plain": [
              "array([1, 2, 3, 4, 5, 6])"
            ]
          },
          "metadata": {},
          "execution_count": 12
        }
      ],
      "source": [
        "e.flatten()"
      ]
    },
    {
      "cell_type": "markdown",
      "metadata": {
        "id": "_IpHUCXIjqPF"
      },
      "source": [
        "### What is `hstack`?\n",
        "\n",
        "With **`hstack`** you can appened data horizontally. This is a very convinient function in Numpy. Lets study it with an example:"
      ]
    },
    {
      "cell_type": "code",
      "execution_count": 14,
      "metadata": {
        "ExecuteTime": {
          "end_time": "2021-07-06T15:01:02.970776Z",
          "start_time": "2021-07-06T15:01:02.958081Z"
        },
        "colab": {
          "base_uri": "https://localhost:8080/"
        },
        "id": "NOwmIDkgjqPG",
        "outputId": "ecc43608-66fa-4d2c-d611-691d526cb44f"
      },
      "outputs": [
        {
          "output_type": "stream",
          "name": "stdout",
          "text": [
            "Horizontal Append: [1 2 3 4 5 6]\n"
          ]
        }
      ],
      "source": [
        "## Horitzontal Stack\n",
        "\n",
        "import numpy as np\n",
        "f = np.array([1,2,3])\n",
        "g = np.array([4,5,6])\n",
        "\n",
        "print('Horizontal Append:', np.hstack((f, g)))"
      ]
    },
    {
      "cell_type": "code",
      "execution_count": 15,
      "metadata": {
        "ExecuteTime": {
          "end_time": "2021-07-06T15:01:03.094802Z",
          "start_time": "2021-07-06T15:01:02.973707Z"
        },
        "colab": {
          "base_uri": "https://localhost:8080/"
        },
        "id": "t5RfTo3KjqPG",
        "outputId": "3e694062-bf1d-46aa-90a4-7641a6d42b5a"
      },
      "outputs": [
        {
          "output_type": "execute_result",
          "data": {
            "text/plain": [
              "array([[1., 1., 1., 1., 0., 0.],\n",
              "       [1., 1., 1., 1., 0., 0.]])"
            ]
          },
          "metadata": {},
          "execution_count": 15
        }
      ],
      "source": [
        "# Horizontal  stack\n",
        "\n",
        "h1 = np.ones((2,4))\n",
        "h2 = np.zeros((2,2))\n",
        "\n",
        "np.hstack((h1,h2))"
      ]
    },
    {
      "cell_type": "markdown",
      "metadata": {
        "id": "z4B1lYK9jqPG"
      },
      "source": [
        "### What is `vstack`?\n",
        "\n",
        "With **`vstack`** you can appened data vertically. Lets study it with an example:"
      ]
    },
    {
      "cell_type": "code",
      "execution_count": 16,
      "metadata": {
        "ExecuteTime": {
          "end_time": "2021-07-06T15:01:03.203200Z",
          "start_time": "2021-07-06T15:01:03.097730Z"
        },
        "colab": {
          "base_uri": "https://localhost:8080/"
        },
        "id": "xMORNorejqPH",
        "outputId": "6517c0d3-b055-4b4b-a866-a9cffb6a4651"
      },
      "outputs": [
        {
          "output_type": "stream",
          "name": "stdout",
          "text": [
            "Vertical Append: [[1 2 3]\n",
            " [4 5 6]]\n"
          ]
        }
      ],
      "source": [
        "## Vertical Stack\n",
        "\n",
        "import numpy as np\n",
        "f = np.array([1,2,3])\n",
        "g = np.array([4,5,6])\n",
        "\n",
        "print('Vertical Append:', np.vstack((f, g)))"
      ]
    },
    {
      "cell_type": "code",
      "execution_count": 20,
      "metadata": {
        "ExecuteTime": {
          "end_time": "2021-07-06T15:01:03.328195Z",
          "start_time": "2021-07-06T15:01:03.206127Z"
        },
        "colab": {
          "base_uri": "https://localhost:8080/"
        },
        "id": "3c7SAau1jqPH",
        "outputId": "4b773fa8-f17d-4b82-eed1-babbd438f953"
      },
      "outputs": [
        {
          "output_type": "execute_result",
          "data": {
            "text/plain": [
              "array([[1, 2, 3, 4],\n",
              "       [5, 6, 7, 8],\n",
              "       [1, 2, 3, 4],\n",
              "       [5, 6, 7, 8]])"
            ]
          },
          "metadata": {},
          "execution_count": 20
        }
      ],
      "source": [
        "# Vertically stacking vectors\n",
        "\n",
        "v1 = np.array([1,2,3,4])\n",
        "v2 = np.array([5,6,7,8])\n",
        "\n",
        "np.vstack([v1,v2,v1,v2])"
      ]
    },
    {
      "cell_type": "markdown",
      "metadata": {
        "id": "loulBgQ2jqPN"
      },
      "source": [
        "## Statistics\n",
        "\n",
        "NumPy has quite a few useful statistical functions for finding minimum, maximum, percentile standard deviation and variance, etc from the given elements in the array. The functions are explained as follows −"
      ]
    },
    {
      "cell_type": "markdown",
      "metadata": {
        "id": "99lsWcnzjqPN"
      },
      "source": [
        "Numpy is equipped with the robust statistical function as listed below:\n",
        "\n",
        "| Function | Numpy |\n",
        "|:----: |:---- |\n",
        "| **`Min`**                | **np.min()** | \n",
        "| **`Max`**                | **np.max()** | \n",
        "| **`Mean`**               | **np.mean()** | \n",
        "| **`Median`**             | **np.median()** | \n",
        "| **`Standard deviation`** | **np.std()** | "
      ]
    },
    {
      "cell_type": "code",
      "execution_count": 26,
      "metadata": {
        "ExecuteTime": {
          "end_time": "2021-07-06T15:01:04.196356Z",
          "start_time": "2021-07-06T15:01:04.076241Z"
        },
        "id": "UI8aQPu8jqPO"
      },
      "outputs": [],
      "source": [
        "# Consider the following Array\n",
        "\n",
        "import numpy as np\n",
        "\n",
        "normal_array = np.array([1, 2, 3, 4, 5, 6, 7])"
      ]
    },
    {
      "cell_type": "code",
      "execution_count": 27,
      "metadata": {
        "ExecuteTime": {
          "end_time": "2021-07-06T15:01:04.366276Z",
          "start_time": "2021-07-06T15:01:04.200262Z"
        },
        "colab": {
          "base_uri": "https://localhost:8080/"
        },
        "id": "jHDSiVyhjqPO",
        "outputId": "f5149d02-0cc9-474b-9eae-12efd6eff5e8"
      },
      "outputs": [
        {
          "output_type": "stream",
          "name": "stdout",
          "text": [
            "1\n",
            "7\n",
            "4.0\n",
            "4.0\n",
            "2.0\n"
          ]
        }
      ],
      "source": [
        "# Example:Statistical function\n",
        "\n",
        "### Min \n",
        "print(np.min(normal_array))\n",
        "\n",
        "### Max \n",
        "print(np.max(normal_array))\n",
        "\n",
        "### Mean \n",
        "print(np.mean(normal_array))\n",
        "\n",
        "### Median\n",
        "print(np.median(normal_array))\n",
        "\n",
        "### Sd\n",
        "print(np.std(normal_array))"
      ]
    },
    {
      "cell_type": "markdown",
      "metadata": {
        "id": "CSSnY9v3jqPT"
      },
      "source": [
        "## Numpy Documentation\n",
        "\n",
        "This brief overview has touched on many of the important things that you need to know about numpy, but is far from complete. Check out the **[numpy reference](https://numpy.org/doc/stable/reference/)** to find out much more about numpy."
      ]
    },
    {
      "cell_type": "code",
      "execution_count": null,
      "metadata": {
        "id": "T0NWCmQxjqPT"
      },
      "outputs": [],
      "source": []
    }
  ],
  "metadata": {
    "hide_input": false,
    "kernelspec": {
      "display_name": "Python 3",
      "language": "python",
      "name": "python3"
    },
    "language_info": {
      "codemirror_mode": {
        "name": "ipython",
        "version": 3
      },
      "file_extension": ".py",
      "mimetype": "text/x-python",
      "name": "python",
      "nbconvert_exporter": "python",
      "pygments_lexer": "ipython3",
      "version": "3.8.8"
    },
    "toc": {
      "base_numbering": 1,
      "nav_menu": {},
      "number_sections": true,
      "sideBar": true,
      "skip_h1_title": false,
      "title_cell": "Table of Contents",
      "title_sidebar": "Contents",
      "toc_cell": false,
      "toc_position": {
        "height": "calc(100% - 180px)",
        "left": "10px",
        "top": "150px",
        "width": "208px"
      },
      "toc_section_display": true,
      "toc_window_display": false
    },
    "varInspector": {
      "cols": {
        "lenName": 16,
        "lenType": 16,
        "lenVar": 40
      },
      "kernels_config": {
        "python": {
          "delete_cmd_postfix": "",
          "delete_cmd_prefix": "del ",
          "library": "var_list.py",
          "varRefreshCmd": "print(var_dic_list())"
        },
        "r": {
          "delete_cmd_postfix": ") ",
          "delete_cmd_prefix": "rm(",
          "library": "var_list.r",
          "varRefreshCmd": "cat(var_dic_list()) "
        }
      },
      "types_to_exclude": [
        "module",
        "function",
        "builtin_function_or_method",
        "instance",
        "_Feature"
      ],
      "window_display": false
    },
    "colab": {
      "provenance": []
    }
  },
  "nbformat": 4,
  "nbformat_minor": 0
}