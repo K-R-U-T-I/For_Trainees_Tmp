{
  "cells": [
    {
      "cell_type": "markdown",
      "metadata": {
        "id": "IQ9mdZCvjny-"
      },
      "source": [
        "## Array indexing\n",
        "\n",
        "Numpy offers several ways to index into arrays and accessing/changing specific elements, rows, columns, etc.\n",
        "\n",
        "**Slicing:** Similar to Python lists, numpy arrays can be sliced. Since arrays may be multidimensional, you must specify a slice for each dimension of the array:"
      ]
    },
    {
      "cell_type": "code",
      "execution_count": 9,
      "metadata": {
        "ExecuteTime": {
          "end_time": "2021-07-03T18:15:26.199295Z",
          "start_time": "2021-07-03T18:15:26.172929Z"
        },
        "colab": {
          "base_uri": "https://localhost:8080/"
        },
        "id": "6o0SO9VGjny_",
        "outputId": "900e4d93-7fdd-4437-99da-80af05c2939b"
      },
      "outputs": [
        {
          "output_type": "execute_result",
          "data": {
            "text/plain": [
              "array([ 0,  1,  2,  3,  4,  5,  6,  7,  8,  9, 10])"
            ]
          },
          "metadata": {},
          "execution_count": 9
        }
      ],
      "source": [
        "import numpy as np\n",
        "a = np.arange(0,11)\n",
        "a"
      ]
    },
    {
      "cell_type": "markdown",
      "metadata": {
        "id": "iYQvPPYfjnzC"
      },
      "source": [
        "#### Indexing a 1D array"
      ]
    },
    {
      "cell_type": "code",
      "execution_count": 10,
      "metadata": {
        "ExecuteTime": {
          "end_time": "2021-07-03T18:15:27.523503Z",
          "start_time": "2021-07-03T18:15:27.508860Z"
        },
        "colab": {
          "base_uri": "https://localhost:8080/"
        },
        "id": "ZR9RpSn0jnzD",
        "outputId": "f068567c-249f-473d-a85b-530933493cbe"
      },
      "outputs": [
        {
          "output_type": "execute_result",
          "data": {
            "text/plain": [
              "2"
            ]
          },
          "metadata": {},
          "execution_count": 10
        }
      ],
      "source": [
        "a[2]           # Get a value at an index"
      ]
    },
    {
      "cell_type": "code",
      "execution_count": 11,
      "metadata": {
        "ExecuteTime": {
          "end_time": "2021-07-03T18:15:28.506892Z",
          "start_time": "2021-07-03T18:15:28.485412Z"
        },
        "colab": {
          "base_uri": "https://localhost:8080/"
        },
        "id": "S2jhXSU1jnzE",
        "outputId": "3bd9eb11-4f81-489f-cc33-5654d855e6c2"
      },
      "outputs": [
        {
          "output_type": "execute_result",
          "data": {
            "text/plain": [
              "array([1, 2, 3])"
            ]
          },
          "metadata": {},
          "execution_count": 11
        }
      ],
      "source": [
        "a[1:4]         # Get values in a range / slice notation"
      ]
    },
    {
      "cell_type": "code",
      "execution_count": 12,
      "metadata": {
        "ExecuteTime": {
          "end_time": "2021-07-03T18:15:29.021537Z",
          "start_time": "2021-07-03T18:15:29.000059Z"
        },
        "colab": {
          "base_uri": "https://localhost:8080/"
        },
        "id": "NpEHuL-9jnzE",
        "outputId": "04a27e17-bd5e-44f7-9a80-75653727d4f2"
      },
      "outputs": [
        {
          "output_type": "execute_result",
          "data": {
            "text/plain": [
              "array([0, 1, 2, 3, 4, 5])"
            ]
          },
          "metadata": {},
          "execution_count": 12
        }
      ],
      "source": [
        "a[:6]"
      ]
    },
    {
      "cell_type": "code",
      "execution_count": 13,
      "metadata": {
        "ExecuteTime": {
          "end_time": "2021-07-03T18:15:29.629936Z",
          "start_time": "2021-07-03T18:15:29.622124Z"
        },
        "colab": {
          "base_uri": "https://localhost:8080/"
        },
        "id": "C4-CDrODjnzF",
        "outputId": "70fecd9a-0af4-415a-cf98-3edc3903dfca"
      },
      "outputs": [
        {
          "output_type": "execute_result",
          "data": {
            "text/plain": [
              "array([ 3,  4,  5,  6,  7,  8,  9, 10])"
            ]
          },
          "metadata": {},
          "execution_count": 13
        }
      ],
      "source": [
        "a[3:]"
      ]
    },
    {
      "cell_type": "code",
      "execution_count": 14,
      "metadata": {
        "ExecuteTime": {
          "end_time": "2021-07-03T18:15:30.113329Z",
          "start_time": "2021-07-03T18:15:30.104542Z"
        },
        "colab": {
          "base_uri": "https://localhost:8080/"
        },
        "id": "68NKholDjnzF",
        "outputId": "5382ce1f-61e5-4523-fc1a-56559d82477b"
      },
      "outputs": [
        {
          "output_type": "execute_result",
          "data": {
            "text/plain": [
              "array([0, 1, 2, 3, 4])"
            ]
          },
          "metadata": {},
          "execution_count": 14
        }
      ],
      "source": [
        "#Slices\n",
        "slice_a = a[0:5]\n",
        "slice_a"
      ]
    },
    {
      "cell_type": "code",
      "execution_count": 15,
      "metadata": {
        "ExecuteTime": {
          "end_time": "2021-07-03T18:15:32.093782Z",
          "start_time": "2021-07-03T18:15:32.082065Z"
        },
        "colab": {
          "base_uri": "https://localhost:8080/"
        },
        "id": "ARoXeIfFjnzH",
        "outputId": "d5e5c437-84f9-41f7-9b6c-86666ffe4126"
      },
      "outputs": [
        {
          "output_type": "execute_result",
          "data": {
            "text/plain": [
              "array([ 0,  1,  2,  3,  4,  5,  6,  7,  8,  9, 10])"
            ]
          },
          "metadata": {},
          "execution_count": 15
        }
      ],
      "source": [
        "a_copy = a.copy()   # creat a copy\n",
        "\n",
        "a_copy"
      ]
    },
    {
      "cell_type": "code",
      "execution_count": 16,
      "metadata": {
        "ExecuteTime": {
          "end_time": "2021-07-03T18:15:32.842797Z",
          "start_time": "2021-07-03T18:15:32.825225Z"
        },
        "colab": {
          "base_uri": "https://localhost:8080/"
        },
        "id": "IgZh2T-8jnzH",
        "outputId": "8a8a1bf3-18f5-4119-c8b9-18fb28602e22"
      },
      "outputs": [
        {
          "output_type": "execute_result",
          "data": {
            "text/plain": [
              "array([200, 200, 200, 200, 200, 200, 200, 200, 200, 200, 200])"
            ]
          },
          "metadata": {},
          "execution_count": 16
        }
      ],
      "source": [
        "a_copy[:]=200\n",
        "a_copy"
      ]
    },
    {
      "cell_type": "code",
      "execution_count": 17,
      "metadata": {
        "ExecuteTime": {
          "end_time": "2021-07-03T18:15:33.498068Z",
          "start_time": "2021-07-03T18:15:33.489282Z"
        },
        "colab": {
          "base_uri": "https://localhost:8080/"
        },
        "id": "UPgTLCV5jnzI",
        "outputId": "baa5a005-facc-403e-8263-7ab4230c92b1"
      },
      "outputs": [
        {
          "output_type": "execute_result",
          "data": {
            "text/plain": [
              "array([ 0,  1,  2,  3,  4,  5,  6,  7,  8,  9, 10])"
            ]
          },
          "metadata": {},
          "execution_count": 17
        }
      ],
      "source": [
        "a"
      ]
    },
    {
      "cell_type": "markdown",
      "metadata": {
        "id": "LfG-V8PJjnzJ"
      },
      "source": [
        "##### Be careful when copying arrays!!!"
      ]
    },
    {
      "cell_type": "code",
      "execution_count": 19,
      "metadata": {
        "ExecuteTime": {
          "end_time": "2021-07-03T18:15:34.713389Z",
          "start_time": "2021-07-03T18:15:34.701674Z"
        },
        "scrolled": true,
        "colab": {
          "base_uri": "https://localhost:8080/"
        },
        "id": "ThxnsnjsjnzJ",
        "outputId": "a9830294-3977-49de-c799-a398bc5c0932"
      },
      "outputs": [
        {
          "output_type": "stream",
          "name": "stdout",
          "text": [
            "[100   2   3]\n"
          ]
        }
      ],
      "source": [
        "a = np.array([1,2,3])\n",
        "a\n",
        "\n",
        "b = a\n",
        "#b = a.copy()\n",
        "b[0] = 100\n",
        "\n",
        "print(a) "
      ]
    },
    {
      "cell_type": "code",
      "source": [
        "a = np.array([1,2,3])\n",
        "a\n",
        "\n",
        "# b = a\n",
        "b = a.copy()\n",
        "b[0] = 100\n",
        "\n",
        "print(a) \n",
        "print(b)"
      ],
      "metadata": {
        "colab": {
          "base_uri": "https://localhost:8080/"
        },
        "id": "HqkBjwh5uKrk",
        "outputId": "4c2a19bb-00d3-4a6e-98a3-6eb92f0f3182"
      },
      "execution_count": 20,
      "outputs": [
        {
          "output_type": "stream",
          "name": "stdout",
          "text": [
            "[1 2 3]\n",
            "[100   2   3]\n"
          ]
        }
      ]
    },
    {
      "cell_type": "markdown",
      "metadata": {
        "id": "wAe70R3xjnzK"
      },
      "source": [
        "#### Indexing a 2D array (matrices)"
      ]
    },
    {
      "cell_type": "code",
      "execution_count": null,
      "metadata": {
        "ExecuteTime": {
          "end_time": "2021-07-03T18:15:35.742680Z",
          "start_time": "2021-07-03T18:15:35.733895Z"
        },
        "id": "mx8tSAGEjnzK"
      },
      "outputs": [],
      "source": [
        "# mat = [row,col]\n",
        "# mat = [row][col]"
      ]
    },
    {
      "cell_type": "code",
      "execution_count": 21,
      "metadata": {
        "ExecuteTime": {
          "end_time": "2021-07-03T18:15:36.411617Z",
          "start_time": "2021-07-03T18:15:36.392092Z"
        },
        "colab": {
          "base_uri": "https://localhost:8080/"
        },
        "id": "NiPdGbzYjnzK",
        "outputId": "3b02bbd0-112a-4e63-b91d-dc4597d9c883"
      },
      "outputs": [
        {
          "output_type": "execute_result",
          "data": {
            "text/plain": [
              "array([[ 5, 10, 20],\n",
              "       [20, 25, 30],\n",
              "       [35, 40, 10]])"
            ]
          },
          "metadata": {},
          "execution_count": 21
        }
      ],
      "source": [
        "mat=np.array(([5,10,20],[20,25,30],[35,40,10]))\n",
        "mat"
      ]
    },
    {
      "cell_type": "code",
      "source": [
        "mat[0] #Indexing row"
      ],
      "metadata": {
        "colab": {
          "base_uri": "https://localhost:8080/"
        },
        "id": "cgBlqB-0ueQD",
        "outputId": "48c5f667-278f-48e6-b057-67e1aaefb37f"
      },
      "execution_count": 24,
      "outputs": [
        {
          "output_type": "execute_result",
          "data": {
            "text/plain": [
              "array([ 5, 10, 20])"
            ]
          },
          "metadata": {},
          "execution_count": 24
        }
      ]
    },
    {
      "cell_type": "code",
      "execution_count": 22,
      "metadata": {
        "ExecuteTime": {
          "end_time": "2021-07-03T18:15:37.065909Z",
          "start_time": "2021-07-03T18:15:37.049313Z"
        },
        "colab": {
          "base_uri": "https://localhost:8080/"
        },
        "id": "aAJVAXHwjnzL",
        "outputId": "88da9129-5e2e-4049-e5f0-17e217f11c11"
      },
      "outputs": [
        {
          "output_type": "execute_result",
          "data": {
            "text/plain": [
              "array([20, 25, 30])"
            ]
          },
          "metadata": {},
          "execution_count": 22
        }
      ],
      "source": [
        "mat[1] #Indexing row"
      ]
    },
    {
      "cell_type": "code",
      "execution_count": 23,
      "metadata": {
        "ExecuteTime": {
          "end_time": "2021-07-03T18:15:37.519035Z",
          "start_time": "2021-07-03T18:15:37.510248Z"
        },
        "colab": {
          "base_uri": "https://localhost:8080/"
        },
        "id": "1o16I3eLjnzL",
        "outputId": "1b7990d1-aeb2-48d0-f6f3-71f931172443"
      },
      "outputs": [
        {
          "output_type": "execute_result",
          "data": {
            "text/plain": [
              "array([35, 40, 10])"
            ]
          },
          "metadata": {},
          "execution_count": 23
        }
      ],
      "source": [
        "mat[2]"
      ]
    },
    {
      "cell_type": "code",
      "execution_count": 25,
      "metadata": {
        "ExecuteTime": {
          "end_time": "2021-07-03T18:15:38.002425Z",
          "start_time": "2021-07-03T18:15:37.985830Z"
        },
        "colab": {
          "base_uri": "https://localhost:8080/"
        },
        "id": "hGGld6FMjnzM",
        "outputId": "eca1d70a-cd17-4eb0-e6b4-bd2eab83b554"
      },
      "outputs": [
        {
          "output_type": "execute_result",
          "data": {
            "text/plain": [
              "25"
            ]
          },
          "metadata": {},
          "execution_count": 25
        }
      ],
      "source": [
        "# Getting individual element value\n",
        "mat[1][1]"
      ]
    },
    {
      "cell_type": "code",
      "execution_count": 26,
      "metadata": {
        "ExecuteTime": {
          "end_time": "2021-07-03T18:15:38.469220Z",
          "start_time": "2021-07-03T18:15:38.452623Z"
        },
        "colab": {
          "base_uri": "https://localhost:8080/"
        },
        "id": "m_hiMua-jnzM",
        "outputId": "4b9e916c-60b8-4a68-d83b-9332a05d7d4a"
      },
      "outputs": [
        {
          "output_type": "execute_result",
          "data": {
            "text/plain": [
              "30"
            ]
          },
          "metadata": {},
          "execution_count": 26
        }
      ],
      "source": [
        "mat[1,2] # use common notaion instaed of 2 brackets"
      ]
    },
    {
      "cell_type": "code",
      "execution_count": null,
      "metadata": {
        "ExecuteTime": {
          "end_time": "2021-07-03T18:20:05.946502Z",
          "start_time": "2021-07-03T18:20:05.927955Z"
        },
        "id": "ucUb9I29jnzS",
        "outputId": "317efd0e-e21b-45d9-ede2-5b1b056742da"
      },
      "outputs": [
        {
          "name": "stdout",
          "output_type": "stream",
          "text": [
            "[[[1 2]\n",
            "  [3 4]]\n",
            "\n",
            " [[5 6]\n",
            "  [7 8]]]\n"
          ]
        }
      ],
      "source": [
        "# 3D example\n",
        "\n",
        "b = np.array([[[1,2],[3,4]],[[5,6],[7,8]]])\n",
        "print(b)"
      ]
    },
    {
      "cell_type": "markdown",
      "metadata": {
        "id": "w6vKh_V-jnzU"
      },
      "source": [
        "#### Summary:"
      ]
    },
    {
      "cell_type": "code",
      "execution_count": 27,
      "metadata": {
        "ExecuteTime": {
          "end_time": "2021-07-03T18:15:46.428636Z",
          "start_time": "2021-07-03T18:15:46.412038Z"
        },
        "scrolled": true,
        "colab": {
          "base_uri": "https://localhost:8080/"
        },
        "id": "DWA33etwjnzU",
        "outputId": "40fd627c-fa7b-4a06-ea63-549f41b19329"
      },
      "outputs": [
        {
          "output_type": "stream",
          "name": "stdout",
          "text": [
            "[[ 1  2  3  4]\n",
            " [ 5  6  7  8]\n",
            " [ 9 10 11 12]]\n"
          ]
        }
      ],
      "source": [
        "import numpy as np\n",
        "\n",
        "# Create the following rank 2 array with shape (3, 4)\n",
        "# [[ 1  2  3  4]\n",
        "#  [ 5  6  7  8]\n",
        "#  [ 9 10 11 12]]\n",
        "a = np.array([[1,2,3,4], [5,6,7,8], [9,10,11,12]])\n",
        "print(a)"
      ]
    },
    {
      "cell_type": "code",
      "source": [
        "# Use slicing to pull out the subarray consisting of the first 2 rows\n",
        "# and columns 1 and 2; b is the following array of shape (2, 2):\n",
        "# [[2 3]\n",
        "#  [6 7]]\n",
        "b = a[:2, 1:3]\n",
        "print(b)"
      ],
      "metadata": {
        "colab": {
          "base_uri": "https://localhost:8080/"
        },
        "id": "qMV6qAOMvqDN",
        "outputId": "8f51853e-c490-4219-e93b-2f90109d3d42"
      },
      "execution_count": 28,
      "outputs": [
        {
          "output_type": "stream",
          "name": "stdout",
          "text": [
            "[[2 3]\n",
            " [6 7]]\n"
          ]
        }
      ]
    },
    {
      "cell_type": "code",
      "source": [
        "# A slice of an array is a view into the same data, so modifying it\n",
        "# will modify the original array.\n",
        "print(a[0, 1])   # Prints \"2\""
      ],
      "metadata": {
        "colab": {
          "base_uri": "https://localhost:8080/"
        },
        "id": "80MLzZhevrxo",
        "outputId": "c05a7b52-cbb3-4ff0-f26f-f407fae68fd8"
      },
      "execution_count": 30,
      "outputs": [
        {
          "output_type": "stream",
          "name": "stdout",
          "text": [
            "77\n"
          ]
        }
      ]
    },
    {
      "cell_type": "code",
      "source": [
        "b[0, 0] = 77     # b[0, 0] is the same piece of data as a[0, 1]\n",
        "print(a[0, 1])   # Prints \"77\""
      ],
      "metadata": {
        "colab": {
          "base_uri": "https://localhost:8080/"
        },
        "id": "NNjyphaNwFkb",
        "outputId": "e003751c-4f43-46b4-e63a-682b4274e991"
      },
      "execution_count": 31,
      "outputs": [
        {
          "output_type": "stream",
          "name": "stdout",
          "text": [
            "77\n"
          ]
        }
      ]
    },
    {
      "cell_type": "markdown",
      "metadata": {
        "id": "VPCmqEVQjnzY"
      },
      "source": [
        "### Quiz time"
      ]
    },
    {
      "cell_type": "code",
      "execution_count": null,
      "metadata": {
        "ExecuteTime": {
          "end_time": "2021-07-03T18:15:50.196187Z",
          "start_time": "2021-07-03T18:15:50.190329Z"
        },
        "id": "yZ8FMNiTjnzY"
      },
      "outputs": [],
      "source": [
        "# Generate matrix:\n",
        "\n",
        "###    1  2  3  4  5\n",
        "###    6  7  8  9 10\n",
        "###   11 12 13 14 15\n",
        "###   16 17 18 19 20\n",
        "###   21 22 23 24 25\n",
        "###   26 27 28 29 30\n",
        "\n",
        "# Acces \n",
        "        11 12\n",
        "        16 17\n",
        "    \n",
        "# Acces  \n",
        "         2\n",
        "           8\n",
        "            14\n",
        "              20\n",
        "\n",
        "# Acces        \n",
        "                4  5\n",
        "\n",
        "\n",
        "\n",
        "               24 25\n",
        "               29 30"
      ]
    },
    {
      "cell_type": "markdown",
      "metadata": {
        "id": "DtAZqQEZjnzY"
      },
      "source": [
        "### Boolean array indexing\n",
        "\n",
        "Boolean array indexing lets you pick out arbitrary elements of an array. Frequently this type of indexing is used to select the elements of an array that satisfy some condition. Here is an example:"
      ]
    },
    {
      "cell_type": "code",
      "execution_count": 32,
      "metadata": {
        "ExecuteTime": {
          "end_time": "2021-07-03T18:15:51.847053Z",
          "start_time": "2021-07-03T18:15:51.838266Z"
        },
        "colab": {
          "base_uri": "https://localhost:8080/"
        },
        "id": "l2rh-yHUjnzY",
        "outputId": "83046857-b903-421c-f0eb-f9804d084b02"
      },
      "outputs": [
        {
          "output_type": "execute_result",
          "data": {
            "text/plain": [
              "array([ 1,  2,  3,  4,  5,  6,  7,  8,  9, 10])"
            ]
          },
          "metadata": {},
          "execution_count": 32
        }
      ],
      "source": [
        "a = np.arange(1,11)\n",
        "a"
      ]
    },
    {
      "cell_type": "code",
      "execution_count": 33,
      "metadata": {
        "ExecuteTime": {
          "end_time": "2021-07-03T18:15:57.860681Z",
          "start_time": "2021-07-03T18:15:57.846038Z"
        },
        "colab": {
          "base_uri": "https://localhost:8080/"
        },
        "id": "85IIhgoZjnzZ",
        "outputId": "4cead1d2-f0ea-43ff-d555-ec4591e5dd3b"
      },
      "outputs": [
        {
          "output_type": "execute_result",
          "data": {
            "text/plain": [
              "array([False, False, False, False,  True,  True,  True,  True,  True,\n",
              "        True])"
            ]
          },
          "metadata": {},
          "execution_count": 33
        }
      ],
      "source": [
        "a > 4"
      ]
    },
    {
      "cell_type": "code",
      "execution_count": 36,
      "metadata": {
        "ExecuteTime": {
          "end_time": "2021-07-03T18:16:44.234869Z",
          "start_time": "2021-07-03T18:16:44.217295Z"
        },
        "colab": {
          "base_uri": "https://localhost:8080/"
        },
        "id": "-Kq5ItQ6jnza",
        "outputId": "8a6ce690-c307-4f98-e45f-9c8047989643"
      },
      "outputs": [
        {
          "output_type": "execute_result",
          "data": {
            "text/plain": [
              "array([ 3,  4,  5,  6,  7,  8,  9, 10])"
            ]
          },
          "metadata": {},
          "execution_count": 36
        }
      ],
      "source": [
        "a[a>2]"
      ]
    },
    {
      "cell_type": "code",
      "execution_count": 37,
      "metadata": {
        "ExecuteTime": {
          "end_time": "2021-07-03T18:16:44.999518Z",
          "start_time": "2021-07-03T18:16:44.984869Z"
        },
        "colab": {
          "base_uri": "https://localhost:8080/"
        },
        "id": "pgTSWSBdjnza",
        "outputId": "b043027d-2b20-4c1c-f3c5-2168748692a1"
      },
      "outputs": [
        {
          "output_type": "execute_result",
          "data": {
            "text/plain": [
              "array([ 3,  4,  5,  6,  7,  8,  9, 10])"
            ]
          },
          "metadata": {},
          "execution_count": 37
        }
      ],
      "source": [
        "x = 2\n",
        "a[a>x]"
      ]
    },
    {
      "cell_type": "markdown",
      "metadata": {
        "id": "XOSqFD5Gjnza"
      },
      "source": [
        "For brevity we have left out a lot of details about numpy array indexing; if you want to know more about Array Indexing you should read this **[documentation](https://numpy.org/doc/stable/reference/arrays.indexing.html)**."
      ]
    },
    {
      "cell_type": "code",
      "execution_count": null,
      "metadata": {
        "id": "RHSbBx7Qjnzb"
      },
      "outputs": [],
      "source": []
    }
  ],
  "metadata": {
    "hide_input": false,
    "kernelspec": {
      "display_name": "Python 3",
      "language": "python",
      "name": "python3"
    },
    "language_info": {
      "codemirror_mode": {
        "name": "ipython",
        "version": 3
      },
      "file_extension": ".py",
      "mimetype": "text/x-python",
      "name": "python",
      "nbconvert_exporter": "python",
      "pygments_lexer": "ipython3",
      "version": "3.8.8"
    },
    "toc": {
      "base_numbering": 1,
      "nav_menu": {},
      "number_sections": true,
      "sideBar": true,
      "skip_h1_title": false,
      "title_cell": "Table of Contents",
      "title_sidebar": "Contents",
      "toc_cell": false,
      "toc_position": {
        "height": "calc(100% - 180px)",
        "left": "10px",
        "top": "150px",
        "width": "208px"
      },
      "toc_section_display": true,
      "toc_window_display": false
    },
    "varInspector": {
      "cols": {
        "lenName": 16,
        "lenType": 16,
        "lenVar": 40
      },
      "kernels_config": {
        "python": {
          "delete_cmd_postfix": "",
          "delete_cmd_prefix": "del ",
          "library": "var_list.py",
          "varRefreshCmd": "print(var_dic_list())"
        },
        "r": {
          "delete_cmd_postfix": ") ",
          "delete_cmd_prefix": "rm(",
          "library": "var_list.r",
          "varRefreshCmd": "cat(var_dic_list()) "
        }
      },
      "types_to_exclude": [
        "module",
        "function",
        "builtin_function_or_method",
        "instance",
        "_Feature"
      ],
      "window_display": false
    },
    "colab": {
      "provenance": []
    }
  },
  "nbformat": 4,
  "nbformat_minor": 0
}