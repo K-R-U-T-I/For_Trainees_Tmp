{
  "cells": [
    {
      "cell_type": "markdown",
      "metadata": {
        "id": "2fb63jI9joWH"
      },
      "source": [
        "## Array math\n",
        "\n",
        "Basic mathematical functions operate elementwise on arrays, and are available both as operator overloads and as functions in the numpy module:"
      ]
    },
    {
      "cell_type": "code",
      "execution_count": 1,
      "metadata": {
        "ExecuteTime": {
          "end_time": "2021-07-03T19:41:31.644418Z",
          "start_time": "2021-07-03T19:41:31.633678Z"
        },
        "colab": {
          "base_uri": "https://localhost:8080/"
        },
        "id": "lJDN-3D_joWI",
        "outputId": "a70ea800-466a-43fd-c52e-a061b160efac"
      },
      "outputs": [
        {
          "output_type": "stream",
          "name": "stdout",
          "text": [
            "[0 1 2 3 4 5]\n"
          ]
        }
      ],
      "source": [
        "import numpy as np\n",
        "\n",
        "a = np.array([0,1,2,3,4,5])\n",
        "print(a)"
      ]
    },
    {
      "cell_type": "code",
      "execution_count": 2,
      "metadata": {
        "ExecuteTime": {
          "end_time": "2021-07-03T19:41:32.174691Z",
          "start_time": "2021-07-03T19:41:32.157113Z"
        },
        "colab": {
          "base_uri": "https://localhost:8080/"
        },
        "id": "_v5zsPNUjoWM",
        "outputId": "c9a23df9-704f-4a71-b170-1e114f110a5c"
      },
      "outputs": [
        {
          "output_type": "execute_result",
          "data": {
            "text/plain": [
              "array([2, 3, 4, 5, 6, 7])"
            ]
          },
          "metadata": {},
          "execution_count": 2
        }
      ],
      "source": [
        "a + 2"
      ]
    },
    {
      "cell_type": "code",
      "execution_count": 3,
      "metadata": {
        "ExecuteTime": {
          "end_time": "2021-07-03T19:41:32.487187Z",
          "start_time": "2021-07-03T19:41:32.475471Z"
        },
        "colab": {
          "base_uri": "https://localhost:8080/"
        },
        "id": "H8BwmMM3joWN",
        "outputId": "1f964388-da7c-4b79-9fa9-18d62d796792"
      },
      "outputs": [
        {
          "output_type": "execute_result",
          "data": {
            "text/plain": [
              "array([-2, -1,  0,  1,  2,  3])"
            ]
          },
          "metadata": {},
          "execution_count": 3
        }
      ],
      "source": [
        "a - 2"
      ]
    },
    {
      "cell_type": "code",
      "execution_count": 4,
      "metadata": {
        "ExecuteTime": {
          "end_time": "2021-07-03T19:41:32.737185Z",
          "start_time": "2021-07-03T19:41:32.720588Z"
        },
        "colab": {
          "base_uri": "https://localhost:8080/"
        },
        "id": "xJYIvZjXjoWO",
        "outputId": "fed7857d-a60c-485b-cb54-faa6ac287af9"
      },
      "outputs": [
        {
          "output_type": "execute_result",
          "data": {
            "text/plain": [
              "array([ 0,  2,  4,  6,  8, 10])"
            ]
          },
          "metadata": {},
          "execution_count": 4
        }
      ],
      "source": [
        "a * 2"
      ]
    },
    {
      "cell_type": "code",
      "execution_count": 5,
      "metadata": {
        "ExecuteTime": {
          "end_time": "2021-07-03T19:41:32.955935Z",
          "start_time": "2021-07-03T19:41:32.935430Z"
        },
        "colab": {
          "base_uri": "https://localhost:8080/"
        },
        "id": "ZSBfVvJSjoWO",
        "outputId": "b97eeed4-7ea6-4111-f431-7a323d08622f"
      },
      "outputs": [
        {
          "output_type": "execute_result",
          "data": {
            "text/plain": [
              "array([0. , 0.5, 1. , 1.5, 2. , 2.5])"
            ]
          },
          "metadata": {},
          "execution_count": 5
        }
      ],
      "source": [
        "a / 2"
      ]
    },
    {
      "cell_type": "code",
      "execution_count": 6,
      "metadata": {
        "ExecuteTime": {
          "end_time": "2021-07-03T19:41:33.158080Z",
          "start_time": "2021-07-03T19:41:33.139528Z"
        },
        "scrolled": true,
        "colab": {
          "base_uri": "https://localhost:8080/"
        },
        "id": "qBrp7w2rjoWP",
        "outputId": "bbcb3ec4-f1dd-4bca-a3ce-5f292b5b4b73"
      },
      "outputs": [
        {
          "output_type": "execute_result",
          "data": {
            "text/plain": [
              "array([ 0,  2,  4,  6,  8, 10])"
            ]
          },
          "metadata": {},
          "execution_count": 6
        }
      ],
      "source": [
        "a + a"
      ]
    },
    {
      "cell_type": "code",
      "execution_count": 7,
      "metadata": {
        "ExecuteTime": {
          "end_time": "2021-07-03T19:41:33.361207Z",
          "start_time": "2021-07-03T19:41:33.355351Z"
        },
        "colab": {
          "base_uri": "https://localhost:8080/"
        },
        "id": "6W5jOMmDjoWQ",
        "outputId": "6f3de377-10c0-48b7-b04e-d580e27e967f"
      },
      "outputs": [
        {
          "output_type": "execute_result",
          "data": {
            "text/plain": [
              "array([ 0,  1,  4,  9, 16, 25])"
            ]
          },
          "metadata": {},
          "execution_count": 7
        }
      ],
      "source": [
        "a * a"
      ]
    },
    {
      "cell_type": "code",
      "execution_count": 8,
      "metadata": {
        "ExecuteTime": {
          "end_time": "2021-07-03T19:41:33.939328Z",
          "start_time": "2021-07-03T19:41:33.931517Z"
        },
        "colab": {
          "base_uri": "https://localhost:8080/"
        },
        "id": "ghTAvE84joWR",
        "outputId": "1294960f-a526-4d2c-9a65-3a962786163e"
      },
      "outputs": [
        {
          "output_type": "execute_result",
          "data": {
            "text/plain": [
              "array([0, 0, 0, 0, 0, 0])"
            ]
          },
          "metadata": {},
          "execution_count": 8
        }
      ],
      "source": [
        "a - a"
      ]
    },
    {
      "cell_type": "code",
      "execution_count": 9,
      "metadata": {
        "ExecuteTime": {
          "end_time": "2021-07-03T19:41:34.157099Z",
          "start_time": "2021-07-03T19:41:34.132688Z"
        },
        "scrolled": true,
        "colab": {
          "base_uri": "https://localhost:8080/"
        },
        "id": "Gdxt4VkVjoWS",
        "outputId": "46887d39-fac3-4f0c-c19b-5b4ab862c9bd"
      },
      "outputs": [
        {
          "output_type": "stream",
          "name": "stderr",
          "text": [
            "<ipython-input-9-1b9ae9b69587>:1: RuntimeWarning: invalid value encountered in true_divide\n",
            "  a/a # Warning on division by zero, but not an error!\n"
          ]
        },
        {
          "output_type": "execute_result",
          "data": {
            "text/plain": [
              "array([nan,  1.,  1.,  1.,  1.,  1.])"
            ]
          },
          "metadata": {},
          "execution_count": 9
        }
      ],
      "source": [
        "a/a # Warning on division by zero, but not an error!"
      ]
    },
    {
      "cell_type": "code",
      "execution_count": 10,
      "metadata": {
        "ExecuteTime": {
          "end_time": "2021-07-03T19:41:34.344599Z",
          "start_time": "2021-07-03T19:41:34.334835Z"
        },
        "colab": {
          "base_uri": "https://localhost:8080/"
        },
        "id": "xDWKCms6joWS",
        "outputId": "10fea879-ec12-4cdd-efff-32b12466bc61"
      },
      "outputs": [
        {
          "output_type": "stream",
          "name": "stderr",
          "text": [
            "<ipython-input-10-6f47904706aa>:1: RuntimeWarning: divide by zero encountered in true_divide\n",
            "  1/a # Also warning, but not an error instead infinity\n"
          ]
        },
        {
          "output_type": "execute_result",
          "data": {
            "text/plain": [
              "array([       inf, 1.        , 0.5       , 0.33333333, 0.25      ,\n",
              "       0.2       ])"
            ]
          },
          "metadata": {},
          "execution_count": 10
        }
      ],
      "source": [
        "1/a # Also warning, but not an error instead infinity"
      ]
    },
    {
      "cell_type": "markdown",
      "metadata": {
        "id": "AdFV_poQjoWU"
      },
      "source": [
        "### Universal  Array Functions (Mathematical operations)"
      ]
    },
    {
      "cell_type": "code",
      "source": [
        "a"
      ],
      "metadata": {
        "colab": {
          "base_uri": "https://localhost:8080/"
        },
        "id": "Z-jxJaZLyoh0",
        "outputId": "e35fccf4-cdd5-4324-ef81-b7df25313fa3"
      },
      "execution_count": 14,
      "outputs": [
        {
          "output_type": "execute_result",
          "data": {
            "text/plain": [
              "array([0, 1, 2, 3, 4, 5])"
            ]
          },
          "metadata": {},
          "execution_count": 14
        }
      ]
    },
    {
      "cell_type": "code",
      "execution_count": 15,
      "metadata": {
        "ExecuteTime": {
          "end_time": "2021-07-03T19:41:35.140494Z",
          "start_time": "2021-07-03T19:41:35.132682Z"
        },
        "colab": {
          "base_uri": "https://localhost:8080/"
        },
        "id": "4B-uVie7joWV",
        "outputId": "b6527e0e-388a-4296-c791-61761e7159d2"
      },
      "outputs": [
        {
          "output_type": "execute_result",
          "data": {
            "text/plain": [
              "array([0.        , 1.        , 1.41421356, 1.73205081, 2.        ,\n",
              "       2.23606798])"
            ]
          },
          "metadata": {},
          "execution_count": 15
        }
      ],
      "source": [
        "#Square Roots\n",
        "np.sqrt(a)"
      ]
    },
    {
      "cell_type": "code",
      "execution_count": 16,
      "metadata": {
        "ExecuteTime": {
          "end_time": "2021-07-03T19:41:35.374866Z",
          "start_time": "2021-07-03T19:41:35.360219Z"
        },
        "scrolled": true,
        "colab": {
          "base_uri": "https://localhost:8080/"
        },
        "id": "yXiAfD0HjoWV",
        "outputId": "83ca8b57-5bbd-4cf9-95e8-11424e646490"
      },
      "outputs": [
        {
          "output_type": "execute_result",
          "data": {
            "text/plain": [
              "array([  1.        ,   2.71828183,   7.3890561 ,  20.08553692,\n",
              "        54.59815003, 148.4131591 ])"
            ]
          },
          "metadata": {},
          "execution_count": 16
        }
      ],
      "source": [
        "#exponential (e^)\n",
        "np.exp(a)"
      ]
    },
    {
      "cell_type": "code",
      "execution_count": 22,
      "metadata": {
        "ExecuteTime": {
          "end_time": "2021-07-03T19:41:35.578967Z",
          "start_time": "2021-07-03T19:41:35.572132Z"
        },
        "scrolled": true,
        "colab": {
          "base_uri": "https://localhost:8080/"
        },
        "id": "eJXkOiQzjoWW",
        "outputId": "593f4f0e-f992-4d7e-b91a-d79d2d4637b1"
      },
      "outputs": [
        {
          "output_type": "execute_result",
          "data": {
            "text/plain": [
              "5"
            ]
          },
          "metadata": {},
          "execution_count": 22
        }
      ],
      "source": [
        "np.max(a) #same as arr.max()"
      ]
    },
    {
      "cell_type": "code",
      "execution_count": 23,
      "metadata": {
        "ExecuteTime": {
          "end_time": "2021-07-03T19:41:35.781113Z",
          "start_time": "2021-07-03T19:41:35.761582Z"
        },
        "colab": {
          "base_uri": "https://localhost:8080/"
        },
        "id": "89REPRgsjoWW",
        "outputId": "6615a608-56ca-4521-b41d-f977dc5ee9fe"
      },
      "outputs": [
        {
          "output_type": "execute_result",
          "data": {
            "text/plain": [
              "0"
            ]
          },
          "metadata": {},
          "execution_count": 23
        }
      ],
      "source": [
        "np.min(a)"
      ]
    },
    {
      "cell_type": "code",
      "execution_count": 24,
      "metadata": {
        "ExecuteTime": {
          "end_time": "2021-07-03T19:41:36.013532Z",
          "start_time": "2021-07-03T19:41:35.968614Z"
        },
        "scrolled": true,
        "colab": {
          "base_uri": "https://localhost:8080/"
        },
        "id": "oeU-PV2yjoWX",
        "outputId": "c90d6210-aa18-40de-aab8-c82f054e1e20"
      },
      "outputs": [
        {
          "output_type": "execute_result",
          "data": {
            "text/plain": [
              "array([ 0.        ,  0.84147098,  0.90929743,  0.14112001, -0.7568025 ,\n",
              "       -0.95892427])"
            ]
          },
          "metadata": {},
          "execution_count": 24
        }
      ],
      "source": [
        "np.sin(a)"
      ]
    },
    {
      "cell_type": "code",
      "execution_count": 25,
      "metadata": {
        "ExecuteTime": {
          "end_time": "2021-07-03T19:41:36.216656Z",
          "start_time": "2021-07-03T19:41:36.195175Z"
        },
        "colab": {
          "base_uri": "https://localhost:8080/"
        },
        "id": "Xx_2EWbzjoWY",
        "outputId": "9e1d98cd-553c-41f7-8142-1bf9d00cc5d4"
      },
      "outputs": [
        {
          "output_type": "execute_result",
          "data": {
            "text/plain": [
              "array([ 1.        ,  0.54030231, -0.41614684, -0.9899925 , -0.65364362,\n",
              "        0.28366219])"
            ]
          },
          "metadata": {},
          "execution_count": 25
        }
      ],
      "source": [
        "np.cos(a)"
      ]
    },
    {
      "cell_type": "code",
      "source": [],
      "metadata": {
        "id": "czX_j6qmz963"
      },
      "execution_count": null,
      "outputs": []
    },
    {
      "cell_type": "code",
      "execution_count": 31,
      "metadata": {
        "ExecuteTime": {
          "end_time": "2021-07-03T19:41:36.528180Z",
          "start_time": "2021-07-03T19:41:36.494979Z"
        },
        "scrolled": true,
        "colab": {
          "base_uri": "https://localhost:8080/"
        },
        "id": "IQXgIfYujoWY",
        "outputId": "8b4aa009-f250-4924-e7d3-a96d833791f3"
      },
      "outputs": [
        {
          "output_type": "stream",
          "name": "stdout",
          "text": [
            "[[1 2]\n",
            " [3 4]]\n",
            "[[5 6]\n",
            " [7 8]]\n"
          ]
        }
      ],
      "source": [
        "import numpy as np\n",
        "\n",
        "x = np.array([[1,2],[3,4]])\n",
        "y = np.array([[5,6],[7,8]])\n",
        "print(x)\n",
        "print(y)"
      ]
    },
    {
      "cell_type": "code",
      "source": [
        "# Elementwise sum; both produce the array\n",
        "# [[ 6.0  8.0]\n",
        "#  [10.0 12.0]]\n",
        "print(x + y)\n",
        "print(np.add(x, y))"
      ],
      "metadata": {
        "colab": {
          "base_uri": "https://localhost:8080/"
        },
        "id": "DQ3aA0k9zUcq",
        "outputId": "b34256f1-2117-409c-e540-bb0c3d78bd0b"
      },
      "execution_count": 32,
      "outputs": [
        {
          "output_type": "stream",
          "name": "stdout",
          "text": [
            "[[ 6  8]\n",
            " [10 12]]\n",
            "[[ 6  8]\n",
            " [10 12]]\n"
          ]
        }
      ]
    },
    {
      "cell_type": "code",
      "source": [
        "# Elementwise difference; both produce the array\n",
        "# [[-4.0 -4.0]\n",
        "#  [-4.0 -4.0]]\n",
        "print(x - y)\n",
        "print(np.subtract(x, y))"
      ],
      "metadata": {
        "colab": {
          "base_uri": "https://localhost:8080/"
        },
        "id": "cZstlKbGzcIg",
        "outputId": "3147a17b-53ba-401a-d84f-fd33619adc18"
      },
      "execution_count": 33,
      "outputs": [
        {
          "output_type": "stream",
          "name": "stdout",
          "text": [
            "[[-4 -4]\n",
            " [-4 -4]]\n",
            "[[-4 -4]\n",
            " [-4 -4]]\n"
          ]
        }
      ]
    },
    {
      "cell_type": "code",
      "source": [
        "# Elementwise product; both produce the array\n",
        "# [[ 5.0 12.0]\n",
        "#  [21.0 32.0]]\n",
        "print(x * y)\n",
        "print(np.multiply(x, y))"
      ],
      "metadata": {
        "colab": {
          "base_uri": "https://localhost:8080/"
        },
        "id": "jGUn_HrlzkPo",
        "outputId": "f626d712-2f50-493b-de73-ebb9d27d40de"
      },
      "execution_count": 34,
      "outputs": [
        {
          "output_type": "stream",
          "name": "stdout",
          "text": [
            "[[ 5 12]\n",
            " [21 32]]\n",
            "[[ 5 12]\n",
            " [21 32]]\n"
          ]
        }
      ]
    },
    {
      "cell_type": "code",
      "source": [
        "# Elementwise division; both produce the array\n",
        "# [[ 0.2         0.33333333]\n",
        "#  [ 0.42857143  0.5       ]]\n",
        "print(x / y)\n",
        "print(np.divide(x, y))"
      ],
      "metadata": {
        "colab": {
          "base_uri": "https://localhost:8080/"
        },
        "id": "Y4dXPdf00OdC",
        "outputId": "ee24f44e-6561-4230-e9d2-49093afdc29a"
      },
      "execution_count": 35,
      "outputs": [
        {
          "output_type": "stream",
          "name": "stdout",
          "text": [
            "[[0.2        0.33333333]\n",
            " [0.42857143 0.5       ]]\n",
            "[[0.2        0.33333333]\n",
            " [0.42857143 0.5       ]]\n"
          ]
        }
      ]
    },
    {
      "cell_type": "code",
      "execution_count": 36,
      "metadata": {
        "ExecuteTime": {
          "end_time": "2021-07-03T19:41:36.871926Z",
          "start_time": "2021-07-03T19:41:36.853377Z"
        },
        "colab": {
          "base_uri": "https://localhost:8080/"
        },
        "id": "G3_CUbvVjoWZ",
        "outputId": "76ec70e1-53a9-4891-dd24-cd5180538d57"
      },
      "outputs": [
        {
          "output_type": "execute_result",
          "data": {
            "text/plain": [
              "14"
            ]
          },
          "metadata": {},
          "execution_count": 36
        }
      ],
      "source": [
        "### Dot product: product of two arrays\n",
        "\n",
        "f = np.array([1,2])\n",
        "g = np.array([4,5])\n",
        "### 1*4+2*5\n",
        "np.dot(f, g)"
      ]
    },
    {
      "cell_type": "code",
      "execution_count": 37,
      "metadata": {
        "ExecuteTime": {
          "end_time": "2021-07-03T19:41:37.308447Z",
          "start_time": "2021-07-03T19:41:37.286967Z"
        },
        "colab": {
          "base_uri": "https://localhost:8080/"
        },
        "id": "555A-NmCjoWa",
        "outputId": "b71fe114-bf61-444f-d8e4-b8fbd35698b4"
      },
      "outputs": [
        {
          "output_type": "stream",
          "name": "stdout",
          "text": [
            "219\n",
            "219\n"
          ]
        }
      ],
      "source": [
        "import numpy as np\n",
        "\n",
        "v = np.array([9,10])\n",
        "w = np.array([11, 12])\n",
        "\n",
        "# Inner product of vectors; both produce 219\n",
        "print(v.dot(w))\n",
        "print(np.dot(v, w))"
      ]
    },
    {
      "cell_type": "markdown",
      "metadata": {
        "id": "paEPWM2yjoWa"
      },
      "source": [
        "Numpy provides many useful functions for performing computations on arrays; one of the most useful is **`sum`**:"
      ]
    },
    {
      "cell_type": "code",
      "execution_count": 39,
      "metadata": {
        "ExecuteTime": {
          "end_time": "2021-07-03T19:41:37.714693Z",
          "start_time": "2021-07-03T19:41:37.693214Z"
        },
        "colab": {
          "base_uri": "https://localhost:8080/"
        },
        "id": "cEqN4fhJjoWb",
        "outputId": "ccbc8041-1ac3-494c-d6e2-89e5516d2320"
      },
      "outputs": [
        {
          "output_type": "stream",
          "name": "stdout",
          "text": [
            "[[1 2]\n",
            " [3 4]]\n",
            "10\n"
          ]
        }
      ],
      "source": [
        "import numpy as np\n",
        "\n",
        "x = np.array([[1,2],[3,4]])\n",
        "print(x)\n",
        "print(np.sum(x))  # Compute sum of all elements; prints \"10\""
      ]
    },
    {
      "cell_type": "markdown",
      "metadata": {
        "id": "AQmk5PJKjoWc"
      },
      "source": [
        "You can find the full list of mathematical functions provided by numpy in this **[documentation](https://numpy.org/doc/stable/reference/routines.math.html)**."
      ]
    },
    {
      "cell_type": "markdown",
      "metadata": {
        "id": "dcuiUPzYjoWe"
      },
      "source": [
        "Numpy provides many more functions for manipulating arrays; you can see the full list in the **[documentation](https://numpy.org/doc/stable/reference/routines.array-manipulation.html)**."
      ]
    },
    {
      "cell_type": "markdown",
      "metadata": {
        "id": "hqcIYi8WjoWe"
      },
      "source": [
        "### Matrix Multiplication\n",
        "\n",
        "The Numpy **`matmul()`** function is used to return the matrix product of 2 arrays."
      ]
    },
    {
      "cell_type": "code",
      "execution_count": 43,
      "metadata": {
        "ExecuteTime": {
          "end_time": "2021-07-03T19:41:39.010098Z",
          "start_time": "2021-07-03T19:41:38.993501Z"
        },
        "scrolled": true,
        "colab": {
          "base_uri": "https://localhost:8080/"
        },
        "id": "CXM-Zf4PjoWf",
        "outputId": "26c7ba73-197a-4cfb-8da6-c945a3f10c56"
      },
      "outputs": [
        {
          "output_type": "stream",
          "name": "stdout",
          "text": [
            "[[1. 1. 1.]\n",
            " [1. 1. 1.]]\n",
            "[[2 2]\n",
            " [2 2]\n",
            " [2 2]]\n"
          ]
        },
        {
          "output_type": "execute_result",
          "data": {
            "text/plain": [
              "array([[6., 6.],\n",
              "       [6., 6.]])"
            ]
          },
          "metadata": {},
          "execution_count": 43
        }
      ],
      "source": [
        "a = np.ones((2,3))\n",
        "print(a)\n",
        "\n",
        "b = np.full((3,2), 2)\n",
        "print(b)\n",
        "\n",
        "np.matmul(a,b) # matmul() function is used to return the matrix product of 2 arrays. "
      ]
    },
    {
      "cell_type": "code",
      "execution_count": 46,
      "metadata": {
        "ExecuteTime": {
          "end_time": "2021-07-03T19:41:39.322598Z",
          "start_time": "2021-07-03T19:41:39.304045Z"
        },
        "scrolled": true,
        "colab": {
          "base_uri": "https://localhost:8080/"
        },
        "id": "YRVw4gwjjoWf",
        "outputId": "be7241a9-23e0-44a7-be2d-651ce0de1edb"
      },
      "outputs": [
        {
          "output_type": "stream",
          "name": "stdout",
          "text": [
            "Multiplication: \n"
          ]
        },
        {
          "output_type": "execute_result",
          "data": {
            "text/plain": [
              "array([[19, 22],\n",
              "       [43, 50]])"
            ]
          },
          "metadata": {},
          "execution_count": 46
        }
      ],
      "source": [
        "### Matmul: matruc product of two arrays\n",
        "\n",
        "h = [[1,2],[3,4]] \n",
        "i = [[5,6],[7,8]] \n",
        "print(\"Multiplication: \")\n",
        "### 1*5+2*7 = 19\n",
        "np.matmul(h, i)"
      ]
    },
    {
      "cell_type": "code",
      "execution_count": null,
      "metadata": {
        "id": "2jUixESzjoWk"
      },
      "outputs": [],
      "source": []
    }
  ],
  "metadata": {
    "hide_input": false,
    "kernelspec": {
      "display_name": "Python 3",
      "language": "python",
      "name": "python3"
    },
    "language_info": {
      "codemirror_mode": {
        "name": "ipython",
        "version": 3
      },
      "file_extension": ".py",
      "mimetype": "text/x-python",
      "name": "python",
      "nbconvert_exporter": "python",
      "pygments_lexer": "ipython3",
      "version": "3.8.8"
    },
    "toc": {
      "base_numbering": 1,
      "nav_menu": {},
      "number_sections": true,
      "sideBar": true,
      "skip_h1_title": false,
      "title_cell": "Table of Contents",
      "title_sidebar": "Contents",
      "toc_cell": false,
      "toc_position": {
        "height": "calc(100% - 180px)",
        "left": "10px",
        "top": "150px",
        "width": "208px"
      },
      "toc_section_display": true,
      "toc_window_display": false
    },
    "varInspector": {
      "cols": {
        "lenName": 16,
        "lenType": 16,
        "lenVar": 40
      },
      "kernels_config": {
        "python": {
          "delete_cmd_postfix": "",
          "delete_cmd_prefix": "del ",
          "library": "var_list.py",
          "varRefreshCmd": "print(var_dic_list())"
        },
        "r": {
          "delete_cmd_postfix": ") ",
          "delete_cmd_prefix": "rm(",
          "library": "var_list.r",
          "varRefreshCmd": "cat(var_dic_list()) "
        }
      },
      "types_to_exclude": [
        "module",
        "function",
        "builtin_function_or_method",
        "instance",
        "_Feature"
      ],
      "window_display": false
    },
    "colab": {
      "provenance": []
    }
  },
  "nbformat": 4,
  "nbformat_minor": 0
}