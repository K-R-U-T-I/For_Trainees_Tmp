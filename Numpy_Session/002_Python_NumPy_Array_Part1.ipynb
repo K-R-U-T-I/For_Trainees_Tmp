{
  "cells": [
    {
      "cell_type": "markdown",
      "metadata": {
        "id": "aNhm35XFjmWn"
      },
      "source": [
        "# Python NumPy Array: \n",
        "\n",
        "A numpy array is a grid of values, all of the same type, and is indexed by a tuple of nonnegative integers. The number of dimensions is the rank of the array; the shape of an array is a tuple of integers giving the size of the array along each dimension.\n",
        "\n",
        "Numpy array is a powerful N-dimensional array object which is in the form of rows and columns. We can initialize NumPy arrays from nested Python lists and access it elements."
      ]
    },
    {
      "cell_type": "markdown",
      "metadata": {
        "id": "jKbUCMPCjmWq"
      },
      "source": [
        "## Create a NumPy Array\n",
        "\n",
        "Simplest way to create an array in Numpy is to use Python List"
      ]
    },
    {
      "cell_type": "markdown",
      "metadata": {
        "id": "8ppzPbvtjmWq"
      },
      "source": [
        "### Load in NumPy Library"
      ]
    },
    {
      "cell_type": "code",
      "execution_count": 1,
      "metadata": {
        "ExecuteTime": {
          "end_time": "2021-07-06T15:02:08.826412Z",
          "start_time": "2021-07-06T15:02:08.496336Z"
        },
        "id": "IvHETmLPjmWq"
      },
      "outputs": [],
      "source": [
        "import numpy as np"
      ]
    },
    {
      "cell_type": "code",
      "execution_count": 2,
      "metadata": {
        "ExecuteTime": {
          "end_time": "2021-07-06T15:02:08.857663Z",
          "start_time": "2021-07-06T15:02:08.830319Z"
        },
        "colab": {
          "base_uri": "https://localhost:8080/"
        },
        "id": "KvtHSoWMjmWs",
        "outputId": "44db116a-a915-488d-99ce-28acaaf97d2b"
      },
      "outputs": [
        {
          "output_type": "execute_result",
          "data": {
            "text/plain": [
              "[1, 2, 3, 4]"
            ]
          },
          "metadata": {},
          "execution_count": 2
        }
      ],
      "source": [
        "my_list = [1,2,3,4]\n",
        "my_list"
      ]
    },
    {
      "cell_type": "markdown",
      "metadata": {
        "id": "_buy2tU1jmWv"
      },
      "source": [
        "To convert python list to a numpy array by using the object **`np.array`**."
      ]
    },
    {
      "cell_type": "code",
      "execution_count": 3,
      "metadata": {
        "ExecuteTime": {
          "end_time": "2021-07-06T15:02:08.951412Z",
          "start_time": "2021-07-06T15:02:08.863522Z"
        },
        "colab": {
          "base_uri": "https://localhost:8080/"
        },
        "id": "KPBg1JyhjmWw",
        "outputId": "edee86e1-5fd8-444d-dadf-4bbf4b2743fd"
      },
      "outputs": [
        {
          "output_type": "execute_result",
          "data": {
            "text/plain": [
              "array([1, 2, 3, 4])"
            ]
          },
          "metadata": {},
          "execution_count": 3
        }
      ],
      "source": [
        "numpy_array_from_list = np.array(my_list)\n",
        "numpy_array_from_list"
      ]
    },
    {
      "cell_type": "markdown",
      "metadata": {
        "id": "Yl4mHKYBjmWx"
      },
      "source": [
        "In practice, there is no need to declare a Python List. The operation can be combined."
      ]
    },
    {
      "cell_type": "code",
      "execution_count": 4,
      "metadata": {
        "ExecuteTime": {
          "end_time": "2021-07-06T15:02:09.059808Z",
          "start_time": "2021-07-06T15:02:08.958248Z"
        },
        "colab": {
          "base_uri": "https://localhost:8080/"
        },
        "id": "8jrangw9jmWy",
        "outputId": "8d0e231e-a6a0-44ce-ad6a-a4629fb3d2d2"
      },
      "outputs": [
        {
          "output_type": "execute_result",
          "data": {
            "text/plain": [
              "array([1, 2, 3, 4])"
            ]
          },
          "metadata": {},
          "execution_count": 4
        }
      ],
      "source": [
        "my_list1  = np.array([1,2,3,4])\n",
        "my_list1"
      ]
    },
    {
      "cell_type": "markdown",
      "metadata": {
        "id": "zatiz97tjmWz"
      },
      "source": [
        ">**NOTE:** Numpy documentation states use of **`np.ndarray`** to create an array. However, this the recommended method\n",
        "\n",
        "You can also create a numpy array from a Tuple"
      ]
    },
    {
      "cell_type": "code",
      "execution_count": 5,
      "metadata": {
        "ExecuteTime": {
          "end_time": "2021-07-06T15:02:09.154539Z",
          "start_time": "2021-07-06T15:02:09.063716Z"
        },
        "colab": {
          "base_uri": "https://localhost:8080/"
        },
        "id": "PBBkxlijjmWz",
        "outputId": "e1dea0a2-317c-4462-f270-395bdbe013bb"
      },
      "outputs": [
        {
          "output_type": "execute_result",
          "data": {
            "text/plain": [
              "array([1, 2, 3, 4])"
            ]
          },
          "metadata": {},
          "execution_count": 5
        }
      ],
      "source": [
        "my_list2 = np.array (range (1,5))\n",
        "my_list2"
      ]
    },
    {
      "cell_type": "markdown",
      "metadata": {
        "id": "QNyg0EIJjmW0"
      },
      "source": [
        "## Numpy Array basics "
      ]
    },
    {
      "cell_type": "markdown",
      "metadata": {
        "id": "26nJ3Pg1jmW0"
      },
      "source": [
        "We can initialize numpy arrays from nested Python lists, and access elements using square brackets **`[]`**:"
      ]
    },
    {
      "cell_type": "code",
      "execution_count": 7,
      "metadata": {
        "ExecuteTime": {
          "end_time": "2021-07-06T15:02:09.264883Z",
          "start_time": "2021-07-06T15:02:09.160396Z"
        },
        "colab": {
          "base_uri": "https://localhost:8080/"
        },
        "id": "PkDGsUcUjmW1",
        "outputId": "581c2581-c652-4465-eb29-165a3c077352"
      },
      "outputs": [
        {
          "output_type": "stream",
          "name": "stdout",
          "text": [
            "[1 2 3]\n",
            "<class 'numpy.ndarray'>\n"
          ]
        }
      ],
      "source": [
        "a = np.array([1,2,3]) # Create a 1D array\n",
        "print(a) \n",
        "print(type(a))  # Prints \"<class 'numpy.ndarray'>\""
      ]
    },
    {
      "cell_type": "code",
      "execution_count": 8,
      "metadata": {
        "ExecuteTime": {
          "end_time": "2021-07-06T15:02:09.385003Z",
          "start_time": "2021-07-06T15:02:09.273675Z"
        },
        "colab": {
          "base_uri": "https://localhost:8080/"
        },
        "id": "np7s9J5XjmW1",
        "outputId": "21999eb9-31c5-448b-d985-61a7be225886"
      },
      "outputs": [
        {
          "output_type": "stream",
          "name": "stdout",
          "text": [
            "[[9. 8. 7.]\n",
            " [6. 5. 4.]]\n"
          ]
        }
      ],
      "source": [
        "b = np.array([[9.0,8.0,7.0],[6.0,5.0,4.0]])\n",
        "print(b)"
      ]
    },
    {
      "cell_type": "code",
      "execution_count": 9,
      "metadata": {
        "ExecuteTime": {
          "end_time": "2021-07-06T15:02:09.510004Z",
          "start_time": "2021-07-06T15:02:09.391841Z"
        },
        "colab": {
          "base_uri": "https://localhost:8080/"
        },
        "id": "dW55VY40jmW2",
        "outputId": "35645768-3eef-40dc-d0c4-06ce455e2137"
      },
      "outputs": [
        {
          "output_type": "execute_result",
          "data": {
            "text/plain": [
              "array([[1, 2, 3],\n",
              "       [4, 5, 6],\n",
              "       [7, 8, 9]])"
            ]
          },
          "metadata": {},
          "execution_count": 9
        }
      ],
      "source": [
        "my_matrix = [[1,2,3],[4,5,6],[7,8,9]]\n",
        "my_matrix\n",
        "np.array(my_matrix)"
      ]
    },
    {
      "cell_type": "code",
      "execution_count": 10,
      "metadata": {
        "ExecuteTime": {
          "end_time": "2021-07-06T15:02:09.619866Z",
          "start_time": "2021-07-06T15:02:09.519767Z"
        },
        "colab": {
          "base_uri": "https://localhost:8080/"
        },
        "id": "x0pvsUxGjmW3",
        "outputId": "16858470-ba7d-4540-fc86-08511b85edfd"
      },
      "outputs": [
        {
          "output_type": "execute_result",
          "data": {
            "text/plain": [
              "1"
            ]
          },
          "metadata": {},
          "execution_count": 10
        }
      ],
      "source": [
        "# Get Dimension\n",
        "a.ndim"
      ]
    },
    {
      "cell_type": "code",
      "execution_count": 11,
      "metadata": {
        "ExecuteTime": {
          "end_time": "2021-07-06T15:02:09.743889Z",
          "start_time": "2021-07-06T15:02:09.626702Z"
        },
        "colab": {
          "base_uri": "https://localhost:8080/"
        },
        "id": "S0KD1EEXjmW3",
        "outputId": "205304fb-e473-41cf-89f0-235f828af884"
      },
      "outputs": [
        {
          "output_type": "execute_result",
          "data": {
            "text/plain": [
              "(2, 3)"
            ]
          },
          "metadata": {},
          "execution_count": 11
        }
      ],
      "source": [
        "# Get Shape\n",
        "b.shape"
      ]
    },
    {
      "cell_type": "code",
      "execution_count": 13,
      "metadata": {
        "ExecuteTime": {
          "end_time": "2021-07-06T15:02:10.361071Z",
          "start_time": "2021-07-06T15:02:10.216541Z"
        },
        "scrolled": true,
        "colab": {
          "base_uri": "https://localhost:8080/"
        },
        "id": "7PowIopVjmW5",
        "outputId": "79336667-e017-49d4-bcf8-26a35e51af18"
      },
      "outputs": [
        {
          "output_type": "execute_result",
          "data": {
            "text/plain": [
              "3"
            ]
          },
          "metadata": {},
          "execution_count": 13
        }
      ],
      "source": [
        "# Get number of elements\n",
        "a.size"
      ]
    },
    {
      "cell_type": "code",
      "source": [
        "b.size"
      ],
      "metadata": {
        "colab": {
          "base_uri": "https://localhost:8080/"
        },
        "id": "IBx3OjBGnaDx",
        "outputId": "02dc4950-19ee-4b09-c611-42bc0f46e30a"
      },
      "execution_count": 15,
      "outputs": [
        {
          "output_type": "execute_result",
          "data": {
            "text/plain": [
              "6"
            ]
          },
          "metadata": {},
          "execution_count": 15
        }
      ]
    },
    {
      "cell_type": "code",
      "execution_count": 17,
      "metadata": {
        "ExecuteTime": {
          "end_time": "2021-07-06T15:02:10.470444Z",
          "start_time": "2021-07-06T15:02:10.369861Z"
        },
        "colab": {
          "base_uri": "https://localhost:8080/"
        },
        "id": "svw2GQibjmW6",
        "outputId": "f582e1a4-f145-4fc2-bdab-2078a9977641"
      },
      "outputs": [
        {
          "output_type": "execute_result",
          "data": {
            "text/plain": [
              "array([[ True, False],\n",
              "       [False,  True]])"
            ]
          },
          "metadata": {},
          "execution_count": 17
        }
      ],
      "source": [
        "c = np.array([[True, False], [False, True]])\n",
        "c"
      ]
    },
    {
      "cell_type": "code",
      "execution_count": 18,
      "metadata": {
        "ExecuteTime": {
          "end_time": "2021-07-06T15:02:10.564197Z",
          "start_time": "2021-07-06T15:02:10.475329Z"
        },
        "colab": {
          "base_uri": "https://localhost:8080/"
        },
        "id": "nUjNzChujmW6",
        "outputId": "5dfa1774-7d76-4055-fc9f-caa4ea2b813e"
      },
      "outputs": [
        {
          "output_type": "stream",
          "name": "stdout",
          "text": [
            "4\n",
            "(2, 2)\n"
          ]
        }
      ],
      "source": [
        "print(c.size)\n",
        "print(c.shape) "
      ]
    },
    {
      "cell_type": "code",
      "execution_count": 19,
      "metadata": {
        "ExecuteTime": {
          "end_time": "2021-07-06T15:02:10.674056Z",
          "start_time": "2021-07-06T15:02:10.570055Z"
        },
        "scrolled": false,
        "colab": {
          "base_uri": "https://localhost:8080/"
        },
        "id": "EVLzc0PnjmW_",
        "outputId": "38fd90fc-239d-4ccd-9144-7363b07aed46"
      },
      "outputs": [
        {
          "output_type": "stream",
          "name": "stdout",
          "text": [
            "[1 2 3]\n",
            "<class 'numpy.ndarray'>\n",
            "(3,)\n",
            "1 2 3\n",
            "[5 2 3]\n"
          ]
        }
      ],
      "source": [
        "a = np.array([1, 2, 3])   # Create a 1d array\n",
        "print(a)\n",
        "print(type(a))            # Prints \"<class 'numpy.ndarray'>\"\n",
        "print(a.shape)            # Prints \"(3,)\"\n",
        "print(a[0], a[1], a[2])   # Indexing with 3 elements. Prints \"1 2 3\"\n",
        "a[0] = 5                  # Change an element of the array\n",
        "print(a)                  # Prints \"[5, 2, 3]\""
      ]
    },
    {
      "cell_type": "code",
      "source": [
        "b = np.array([[1,2,3],[4,5,6]])    # Create a 2d array\n",
        "print(b)\n",
        "print(b.shape)                     # Prints \"(2, 3)\"\n",
        "print(b[0, 0], b[0, 1], b[1, 0])   # Prints \"1 2 4\""
      ],
      "metadata": {
        "colab": {
          "base_uri": "https://localhost:8080/"
        },
        "id": "nUc77beyn7xv",
        "outputId": "a039debc-6ee5-48b5-969a-b398cb311cfb"
      },
      "execution_count": 20,
      "outputs": [
        {
          "output_type": "stream",
          "name": "stdout",
          "text": [
            "[[1 2 3]\n",
            " [4 5 6]]\n",
            "(2, 3)\n",
            "1 2 4\n"
          ]
        }
      ]
    },
    {
      "cell_type": "markdown",
      "metadata": {
        "id": "fIWUhFlpjmXA"
      },
      "source": [
        "## Array datatypes\n",
        "\n",
        "Every numpy array is a grid of elements of the same type. Numpy provides a large set of numeric datatypes that you can use to construct arrays. The full list of NumPy datatype (dtypes) can be found in the [NumPy documentation](http://docs.scipy.org/doc/numpy/user/basics.types.html).\n",
        "\n",
        "<div>\n",
        "<img src=\"http://docs.scipy.org/doc/numpy/_images/dtype-hierarchy.png\" width=\"600\"/>\n",
        "</div>\n",
        "\n",
        "The two biggest things to remember are\n",
        "\n",
        "- Missing values (NaN) cast integer or boolean arrays to floats\n",
        "- NumPy arrays only have a single dtype for every element\n",
        "- the object dtype is the fallback\n",
        "\n",
        "Numpy tries to guess a datatype when you create an array, but functions that construct arrays usually also include an optional argument to explicitly specify the datatype. For example:"
      ]
    },
    {
      "cell_type": "code",
      "execution_count": 27,
      "metadata": {
        "ExecuteTime": {
          "end_time": "2021-07-06T15:02:10.798078Z",
          "start_time": "2021-07-06T15:02:10.677966Z"
        },
        "colab": {
          "base_uri": "https://localhost:8080/"
        },
        "id": "nEosKGnUjmXA",
        "outputId": "1b02cd83-0728-4d65-95d9-4bc3aa66f58b"
      },
      "outputs": [
        {
          "output_type": "stream",
          "name": "stdout",
          "text": [
            "[1 2 3]\n"
          ]
        }
      ],
      "source": [
        "a = np.array([1,2,3], dtype='int32') # Create a 1D array with int32 type\n",
        "print(a) "
      ]
    },
    {
      "cell_type": "code",
      "execution_count": 28,
      "metadata": {
        "ExecuteTime": {
          "end_time": "2021-07-06T15:02:10.922103Z",
          "start_time": "2021-07-06T15:02:10.804915Z"
        },
        "colab": {
          "base_uri": "https://localhost:8080/"
        },
        "id": "mksNKqLFjmXB",
        "outputId": "56930dbe-e57d-46d1-fc77-3ca9502819e6"
      },
      "outputs": [
        {
          "output_type": "execute_result",
          "data": {
            "text/plain": [
              "dtype('int32')"
            ]
          },
          "metadata": {},
          "execution_count": 28
        }
      ],
      "source": [
        "# Get Type\n",
        "a.dtype"
      ]
    },
    {
      "cell_type": "code",
      "execution_count": 29,
      "metadata": {
        "ExecuteTime": {
          "end_time": "2021-07-06T15:02:11.050031Z",
          "start_time": "2021-07-06T15:02:10.928938Z"
        },
        "scrolled": true,
        "colab": {
          "base_uri": "https://localhost:8080/"
        },
        "id": "HDHGUjxFjmXC",
        "outputId": "40cfd9f4-ab05-4de9-b517-79fc7f042ae7"
      },
      "outputs": [
        {
          "output_type": "stream",
          "name": "stdout",
          "text": [
            "[[9. 8. 7.]\n",
            " [6. 5. 4.]]\n"
          ]
        },
        {
          "output_type": "execute_result",
          "data": {
            "text/plain": [
              "dtype('float64')"
            ]
          },
          "metadata": {},
          "execution_count": 29
        }
      ],
      "source": [
        "b = np.array([[9.0,8.0,7.0],[6.0,5.0,4.0]])\n",
        "print(b)\n",
        "b.dtype"
      ]
    },
    {
      "cell_type": "code",
      "execution_count": 31,
      "metadata": {
        "ExecuteTime": {
          "end_time": "2021-07-06T15:02:11.156480Z",
          "start_time": "2021-07-06T15:02:11.055893Z"
        },
        "scrolled": false,
        "colab": {
          "base_uri": "https://localhost:8080/"
        },
        "id": "Oah5LqCNjmXD",
        "outputId": "d45dd9bd-8f41-4e87-8c4e-150dfdfdeb3e"
      },
      "outputs": [
        {
          "output_type": "stream",
          "name": "stdout",
          "text": [
            "int64\n",
            "float64\n"
          ]
        }
      ],
      "source": [
        "import numpy as np\n",
        "\n",
        "x = np.array([1, 2])   # Let numpy choose the datatype\n",
        "print(x.dtype)         # Prints \"int64\"\n",
        "\n",
        "x = np.array([1.0, 2.0])   # Let numpy choose the datatype\n",
        "print(x.dtype)             # Prints \"float64\""
      ]
    },
    {
      "cell_type": "markdown",
      "metadata": {
        "id": "a-ZP4M0WjmXE"
      },
      "source": [
        "* **Does a NumPy array have a single dtype or multiple dtypes?**\n",
        "  - NumPy arrays are homogenous: they only have a single dtype (unlike DataFrames).\n",
        "  You can have an array that holds mixed types, e.g. `np.array(['a', 1])`, but the\n",
        "  dtype of that array is `object`, which you probably want to avoid."
      ]
    },
    {
      "cell_type": "markdown",
      "metadata": {
        "id": "NWW-BrM3jmXE"
      },
      "source": [
        "You can read all about numpy datatypes in this **[documentation](https://numpy.org/doc/stable/reference/arrays.dtypes.html)**."
      ]
    },
    {
      "cell_type": "markdown",
      "metadata": {
        "id": "jR1OF_KZjmXL"
      },
      "source": [
        "### Array Attributes and Methods\n"
      ]
    },
    {
      "cell_type": "code",
      "execution_count": 37,
      "metadata": {
        "ExecuteTime": {
          "end_time": "2021-07-06T15:02:12.431373Z",
          "start_time": "2021-07-06T15:02:12.317118Z"
        },
        "scrolled": true,
        "colab": {
          "base_uri": "https://localhost:8080/"
        },
        "id": "GzwK5TQPjmXM",
        "outputId": "4efc101a-fd3a-4d0e-fa85-aefe4ea6f581"
      },
      "outputs": [
        {
          "output_type": "execute_result",
          "data": {
            "text/plain": [
              "array([9, 8, 4, 2, 5, 3, 6, 7])"
            ]
          },
          "metadata": {},
          "execution_count": 37
        }
      ],
      "source": [
        "rana = np.array([9, 8, 4, 2, 5, 3, 6, 7])\n",
        "rana"
      ]
    },
    {
      "cell_type": "markdown",
      "metadata": {
        "id": "deSILoAQjmXM"
      },
      "source": [
        "#### `max`, `min`, `argmax`, `argmin`"
      ]
    },
    {
      "cell_type": "code",
      "execution_count": 38,
      "metadata": {
        "ExecuteTime": {
          "end_time": "2021-07-06T15:02:12.556370Z",
          "start_time": "2021-07-06T15:02:12.439187Z"
        },
        "colab": {
          "base_uri": "https://localhost:8080/"
        },
        "id": "jBLjLhv7jmXN",
        "outputId": "20221790-7a00-40c5-eab7-e3d888124c30"
      },
      "outputs": [
        {
          "output_type": "execute_result",
          "data": {
            "text/plain": [
              "array([9, 8, 4, 2, 5, 3, 6, 7])"
            ]
          },
          "metadata": {},
          "execution_count": 38
        }
      ],
      "source": [
        "rana"
      ]
    },
    {
      "cell_type": "code",
      "execution_count": 39,
      "metadata": {
        "ExecuteTime": {
          "end_time": "2021-07-06T15:02:12.681371Z",
          "start_time": "2021-07-06T15:02:12.562233Z"
        },
        "colab": {
          "base_uri": "https://localhost:8080/"
        },
        "id": "RZQRpNT-jmXN",
        "outputId": "aff2321d-c2b7-4431-9044-903366948c11"
      },
      "outputs": [
        {
          "output_type": "execute_result",
          "data": {
            "text/plain": [
              "9"
            ]
          },
          "metadata": {},
          "execution_count": 39
        }
      ],
      "source": [
        "rana.max()"
      ]
    },
    {
      "cell_type": "code",
      "execution_count": 40,
      "metadata": {
        "ExecuteTime": {
          "end_time": "2021-07-06T15:02:12.821996Z",
          "start_time": "2021-07-06T15:02:12.686256Z"
        },
        "colab": {
          "base_uri": "https://localhost:8080/"
        },
        "id": "op02YbGtjmXN",
        "outputId": "51040d89-e026-40bb-8f40-a94532b3daaa"
      },
      "outputs": [
        {
          "output_type": "execute_result",
          "data": {
            "text/plain": [
              "0"
            ]
          },
          "metadata": {},
          "execution_count": 40
        }
      ],
      "source": [
        "rana.argmax()"
      ]
    },
    {
      "cell_type": "code",
      "execution_count": 41,
      "metadata": {
        "ExecuteTime": {
          "end_time": "2021-07-06T15:02:12.915256Z",
          "start_time": "2021-07-06T15:02:12.826879Z"
        },
        "colab": {
          "base_uri": "https://localhost:8080/"
        },
        "id": "1XJp_jrQjmXO",
        "outputId": "2135d168-48bf-41fa-d96b-c03302aeb4b6"
      },
      "outputs": [
        {
          "output_type": "execute_result",
          "data": {
            "text/plain": [
              "2"
            ]
          },
          "metadata": {},
          "execution_count": 41
        }
      ],
      "source": [
        "rana.min()"
      ]
    },
    {
      "cell_type": "code",
      "execution_count": 42,
      "metadata": {
        "ExecuteTime": {
          "end_time": "2021-07-06T15:02:13.024631Z",
          "start_time": "2021-07-06T15:02:12.920142Z"
        },
        "colab": {
          "base_uri": "https://localhost:8080/"
        },
        "id": "0tM66M-DjmXO",
        "outputId": "f69d4cf2-7b33-47c4-911f-7cc8281298bb"
      },
      "outputs": [
        {
          "output_type": "execute_result",
          "data": {
            "text/plain": [
              "3"
            ]
          },
          "metadata": {},
          "execution_count": 42
        }
      ],
      "source": [
        "rana.argmin()"
      ]
    },
    {
      "cell_type": "markdown",
      "metadata": {
        "id": "UM7cgA7sjmXP"
      },
      "source": [
        "### Numpy also provides many functions to create arrays:"
      ]
    },
    {
      "cell_type": "code",
      "execution_count": 43,
      "metadata": {
        "ExecuteTime": {
          "end_time": "2021-07-06T15:02:13.101293Z",
          "start_time": "2021-07-06T15:02:13.027562Z"
        },
        "colab": {
          "base_uri": "https://localhost:8080/"
        },
        "id": "O29HY51LjmXQ",
        "outputId": "8364c1bd-b301-44f6-9631-3a8c30aa2957"
      },
      "outputs": [
        {
          "output_type": "execute_result",
          "data": {
            "text/plain": [
              "array([0., 0., 0., 0., 0.])"
            ]
          },
          "metadata": {},
          "execution_count": 43
        }
      ],
      "source": [
        "# Generating Zeros\n",
        "np.zeros(5)"
      ]
    },
    {
      "cell_type": "code",
      "execution_count": 49,
      "metadata": {
        "ExecuteTime": {
          "end_time": "2021-07-06T15:02:13.210179Z",
          "start_time": "2021-07-06T15:02:13.106175Z"
        },
        "scrolled": true,
        "colab": {
          "base_uri": "https://localhost:8080/"
        },
        "id": "rb4vNNmujmXQ",
        "outputId": "bb68dc5f-1367-406c-9437-049f137cf8f4"
      },
      "outputs": [
        {
          "output_type": "execute_result",
          "data": {
            "text/plain": [
              "array([[0., 0., 0.],\n",
              "       [0., 0., 0.]])"
            ]
          },
          "metadata": {},
          "execution_count": 49
        }
      ],
      "source": [
        "# All 0s matrix\n",
        "np.zeros((2,3))"
      ]
    },
    {
      "cell_type": "code",
      "execution_count": 50,
      "metadata": {
        "ExecuteTime": {
          "end_time": "2021-07-06T15:02:13.322481Z",
          "start_time": "2021-07-06T15:02:13.217015Z"
        },
        "scrolled": false,
        "colab": {
          "base_uri": "https://localhost:8080/"
        },
        "id": "nzjyilArjmXQ",
        "outputId": "98d0538b-bcd9-466f-88d9-9b704566fddc"
      },
      "outputs": [
        {
          "output_type": "execute_result",
          "data": {
            "text/plain": [
              "array([1., 1., 1.])"
            ]
          },
          "metadata": {},
          "execution_count": 50
        }
      ],
      "source": [
        "# Generating Zeros\n",
        "np.ones(3)       # one function"
      ]
    },
    {
      "cell_type": "code",
      "execution_count": 51,
      "metadata": {
        "ExecuteTime": {
          "end_time": "2021-07-06T15:02:13.569061Z",
          "start_time": "2021-07-06T15:02:13.482151Z"
        },
        "colab": {
          "base_uri": "https://localhost:8080/"
        },
        "id": "Z7oO2jwMjmXR",
        "outputId": "50e0586e-094a-475d-fc2d-92c57692f275"
      },
      "outputs": [
        {
          "output_type": "execute_result",
          "data": {
            "text/plain": [
              "array([[1., 1., 1.],\n",
              "       [1., 1., 1.],\n",
              "       [1., 1., 1.]])"
            ]
          },
          "metadata": {},
          "execution_count": 51
        }
      ],
      "source": [
        "np.ones((3,3))"
      ]
    },
    {
      "cell_type": "code",
      "execution_count": 52,
      "metadata": {
        "ExecuteTime": {
          "end_time": "2021-07-06T15:02:13.772189Z",
          "start_time": "2021-07-06T15:02:13.683321Z"
        },
        "colab": {
          "base_uri": "https://localhost:8080/"
        },
        "id": "g_GXDQ1cjmXS",
        "outputId": "a7f41313-1b53-4ad5-b682-1129389ee3b2"
      },
      "outputs": [
        {
          "output_type": "execute_result",
          "data": {
            "text/plain": [
              "array([[99, 99],\n",
              "       [99, 99]])"
            ]
          },
          "metadata": {},
          "execution_count": 52
        }
      ],
      "source": [
        "# Any other number\n",
        "np.full((2,2), 99)"
      ]
    },
    {
      "cell_type": "code",
      "execution_count": 54,
      "metadata": {
        "ExecuteTime": {
          "end_time": "2021-07-06T15:02:13.974333Z",
          "start_time": "2021-07-06T15:02:13.871797Z"
        },
        "colab": {
          "base_uri": "https://localhost:8080/"
        },
        "id": "-ur_eH1bjmXT",
        "outputId": "e4fbb490-3745-45aa-f674-cabf47b431d9"
      },
      "outputs": [
        {
          "output_type": "execute_result",
          "data": {
            "text/plain": [
              "array([[1., 0., 0., 0., 0.],\n",
              "       [0., 1., 0., 0., 0.],\n",
              "       [0., 0., 1., 0., 0.],\n",
              "       [0., 0., 0., 1., 0.],\n",
              "       [0., 0., 0., 0., 1.]])"
            ]
          },
          "metadata": {},
          "execution_count": 54
        }
      ],
      "source": [
        "# The identity matrix\n",
        "np.identity(5)"
      ]
    },
    {
      "cell_type": "code",
      "execution_count": 58,
      "metadata": {
        "ExecuteTime": {
          "end_time": "2021-07-06T15:02:14.177459Z",
          "start_time": "2021-07-06T15:02:14.074921Z"
        },
        "colab": {
          "base_uri": "https://localhost:8080/"
        },
        "id": "YiT88oa4jmXU",
        "outputId": "72208b1f-79ec-46bd-8970-9dc88ec4987e"
      },
      "outputs": [
        {
          "output_type": "stream",
          "name": "stdout",
          "text": [
            "[[0. 0.]\n",
            " [0. 0.]]\n",
            "[[1. 1.]]\n",
            "[[7 7]\n",
            " [7 7]]\n"
          ]
        }
      ],
      "source": [
        "import numpy as np\n",
        "\n",
        "a = np.zeros((2,2))   # Create an array of all zeros\n",
        "print(a)              # Prints \"[[ 0.  0.]\n",
        "                      #          [ 0.  0.]]\"\n",
        "\n",
        "b = np.ones((1,2))    # Create an array of all ones\n",
        "print(b)              # Prints \"[[ 1.  1.]]\"\n",
        "\n",
        "c = np.full((2,2), 7)  # Create a constant array\n",
        "print(c)               # Prints \"[[ 7.  7.]\n",
        "                       #          [ 7.  7.]]\""
      ]
    },
    {
      "cell_type": "markdown",
      "metadata": {
        "id": "KnniP9nAjmXW"
      },
      "source": [
        "You can read about other methods of array creation in this **[documentation](https://numpy.org/doc/stable/user/basics.creation.html#arrays-creation)**."
      ]
    },
    {
      "cell_type": "code",
      "execution_count": null,
      "metadata": {
        "id": "Lx41qySnjmXW"
      },
      "outputs": [],
      "source": []
    }
  ],
  "metadata": {
    "hide_input": false,
    "kernelspec": {
      "display_name": "Python 3",
      "language": "python",
      "name": "python3"
    },
    "language_info": {
      "codemirror_mode": {
        "name": "ipython",
        "version": 3
      },
      "file_extension": ".py",
      "mimetype": "text/x-python",
      "name": "python",
      "nbconvert_exporter": "python",
      "pygments_lexer": "ipython3",
      "version": "3.8.8"
    },
    "toc": {
      "base_numbering": 1,
      "nav_menu": {},
      "number_sections": true,
      "sideBar": true,
      "skip_h1_title": false,
      "title_cell": "Table of Contents",
      "title_sidebar": "Contents",
      "toc_cell": false,
      "toc_position": {
        "height": "calc(100% - 180px)",
        "left": "10px",
        "top": "150px",
        "width": "208px"
      },
      "toc_section_display": true,
      "toc_window_display": false
    },
    "varInspector": {
      "cols": {
        "lenName": 16,
        "lenType": 16,
        "lenVar": 40
      },
      "kernels_config": {
        "python": {
          "delete_cmd_postfix": "",
          "delete_cmd_prefix": "del ",
          "library": "var_list.py",
          "varRefreshCmd": "print(var_dic_list())"
        },
        "r": {
          "delete_cmd_postfix": ") ",
          "delete_cmd_prefix": "rm(",
          "library": "var_list.r",
          "varRefreshCmd": "cat(var_dic_list()) "
        }
      },
      "types_to_exclude": [
        "module",
        "function",
        "builtin_function_or_method",
        "instance",
        "_Feature"
      ],
      "window_display": false
    },
    "colab": {
      "provenance": []
    }
  },
  "nbformat": 4,
  "nbformat_minor": 0
}